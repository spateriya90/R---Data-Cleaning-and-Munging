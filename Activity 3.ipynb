{
 "cells": [
  {
   "cell_type": "markdown",
   "metadata": {
    "collapsed": true
   },
   "source": [
    "# Activity 3\n",
    "## Convert and Transform Raw Data\n",
    "### Data taken from Pew Research Center's 'Gaming, Jobs and Broadband' Survey\n",
    "\n",
    "#### Topics of interest chosen for this activity are:\n",
    "1. Age\n",
    "2. Education\n",
    "3. Income\n",
    "4. Smartphone Ownership\n",
    "5. Parenthood\n",
    "6. Employment\n",
    "7. Race \n",
    "8. Political Affiliation\n",
    "\n",
    "References: \n",
    "https://stat.ethz.ch/R-manual/R-devel/library/graphics/html/barplot.html\n",
    "\n",
    "http://www.cookbook-r.com/Graphs/Bar_and_line_graphs_(ggplot2)/\n",
    "\n",
    "http://docs.ggplot2.org/0.9.2.1/labs.html\n",
    "\n",
    "https://www.r-bloggers.com/basic-introduction-to-ggplot2/\n",
    "\n",
    "http://www.statmethods.net/graphs/bar.html"
   ]
  },
  {
   "cell_type": "code",
   "execution_count": 1,
   "metadata": {
    "collapsed": true
   },
   "outputs": [
    {
     "name": "stderr",
     "output_type": "stream",
     "text": [
      "\n",
      "Attaching package: 'dplyr'\n",
      "\n",
      "The following objects are masked from 'package:stats':\n",
      "\n",
      "    filter, lag\n",
      "\n",
      "The following objects are masked from 'package:base':\n",
      "\n",
      "    intersect, setdiff, setequal, union\n",
      "\n",
      "------------------------------------------------------------------------------\n",
      "You have loaded plyr after dplyr - this is likely to cause problems.\n",
      "If you need functions from both plyr and dplyr, please load plyr first, then dplyr:\n",
      "library(plyr); library(dplyr)\n",
      "------------------------------------------------------------------------------\n",
      "\n",
      "Attaching package: 'plyr'\n",
      "\n",
      "The following objects are masked from 'package:dplyr':\n",
      "\n",
      "    arrange, count, desc, failwith, id, mutate, rename, summarise,\n",
      "    summarize\n",
      "\n",
      "Warning message:\n",
      "\"package 'sqldf' was built under R version 3.3.3\"Loading required package: gsubfn\n",
      "Warning message:\n",
      "\"package 'gsubfn' was built under R version 3.3.3\"Loading required package: proto\n",
      "Could not load tcltk.  Will use slower R code instead.\n",
      "gdata: Unable to locate valid perl interpreter\n",
      "gdata: \n",
      "gdata: read.xls() will be unable to read Excel XLS and XLSX files\n",
      "gdata: unless the 'perl=' argument is used to specify the location of a\n",
      "gdata: valid perl intrpreter.\n",
      "gdata: \n",
      "gdata: (To avoid display of this message in the future, please ensure\n",
      "gdata: perl is installed and available on the executable search path.)\n",
      "gdata: Unable to load perl libaries needed by read.xls()\n",
      "gdata: to support 'XLX' (Excel 97-2004) files.\n",
      "\n",
      "gdata: Unable to load perl libaries needed by read.xls()\n",
      "gdata: to support 'XLSX' (Excel 2007+) files.\n",
      "\n",
      "gdata: Run the function 'installXLSXsupport()'\n",
      "gdata: to automatically download and install the perl\n",
      "gdata: libaries needed to support Excel XLS and XLSX formats.\n",
      "\n",
      "Attaching package: 'gdata'\n",
      "\n",
      "The following objects are masked from 'package:dplyr':\n",
      "\n",
      "    combine, first, last\n",
      "\n",
      "The following object is masked from 'package:stats':\n",
      "\n",
      "    nobs\n",
      "\n",
      "The following object is masked from 'package:utils':\n",
      "\n",
      "    object.size\n",
      "\n",
      "The following object is masked from 'package:base':\n",
      "\n",
      "    startsWith\n",
      "\n"
     ]
    }
   ],
   "source": [
    "#Load required libraries\n",
    "library(ggplot2)\n",
    "library(dplyr)\n",
    "library(RSQLite) \n",
    "library(plyr)\n",
    "library(sqldf)\n",
    "library(gdata)"
   ]
  },
  {
   "cell_type": "code",
   "execution_count": 2,
   "metadata": {
    "collapsed": true
   },
   "outputs": [],
   "source": [
    "#Read data from the CSV file\n",
    "data = read.csv(\"June 10-July 12, 2015 - Gaming, Jobs and Broadband - CSV.csv\", header = TRUE)"
   ]
  },
  {
   "cell_type": "markdown",
   "metadata": {},
   "source": [
    "### Q.1 Correlation of Smartphone Ownership and Age\n",
    "\n",
    "Hypothesis: Smartphones are arguably ubiquitious these days. However, we usually find the younger generation using smartphones more than older people. We have the data about smartphone usage, and the ages of the users. We calculate the percentage of respondents using smartphones for various age groups and visualize it using bar charts."
   ]
  },
  {
   "cell_type": "markdown",
   "metadata": {},
   "source": [
    "We first extract data where we have the information about whether respondents use smartphones or not, along with their age, and delete rows where there is invalid (NA) data."
   ]
  },
  {
   "cell_type": "code",
   "execution_count": 3,
   "metadata": {
    "collapsed": true
   },
   "outputs": [],
   "source": [
    "#Get rows where user have answered either yes or no to owning smartphones\n",
    "q1 <- data %>% select(age,smart1) %>% filter((smart1==1 | smart1==2))\n",
    "\n",
    "# Delete values where there might be invalid data\n",
    "q1 <- na.omit(q1)\n"
   ]
  },
  {
   "cell_type": "markdown",
   "metadata": {},
   "source": [
    "Now, we divide the absolute ages into ranges of age, from 18-29,30-49,50-64, and 65 (and above), and then sort the data according to age ranges"
   ]
  },
  {
   "cell_type": "code",
   "execution_count": 4,
   "metadata": {
    "collapsed": false
   },
   "outputs": [],
   "source": [
    "\n",
    "\n",
    "test <- q1\n",
    "test$age <- cut(q1$age, \n",
    "                       breaks = c(18, 30, 50, 65, Inf), \n",
    "                       labels = c(\"18-29\", \"30-49\", \"50-64\", \"65+\"), \n",
    "                       right = FALSE)"
   ]
  },
  {
   "cell_type": "code",
   "execution_count": 5,
   "metadata": {
    "collapsed": false
   },
   "outputs": [
    {
     "data": {
      "text/html": [
       "<table>\n",
       "<thead><tr><th scope=col>age</th><th scope=col>smart1</th></tr></thead>\n",
       "<tbody>\n",
       "\t<tr><td>18-29</td><td>1    </td></tr>\n",
       "\t<tr><td>18-29</td><td>1    </td></tr>\n",
       "\t<tr><td>18-29</td><td>1    </td></tr>\n",
       "\t<tr><td>18-29</td><td>1    </td></tr>\n",
       "\t<tr><td>18-29</td><td>1    </td></tr>\n",
       "\t<tr><td>18-29</td><td>1    </td></tr>\n",
       "</tbody>\n",
       "</table>\n"
      ],
      "text/latex": [
       "\\begin{tabular}{r|ll}\n",
       " age & smart1\\\\\n",
       "\\hline\n",
       "\t 18-29 & 1    \\\\\n",
       "\t 18-29 & 1    \\\\\n",
       "\t 18-29 & 1    \\\\\n",
       "\t 18-29 & 1    \\\\\n",
       "\t 18-29 & 1    \\\\\n",
       "\t 18-29 & 1    \\\\\n",
       "\\end{tabular}\n"
      ],
      "text/markdown": [
       "\n",
       "age | smart1 | \n",
       "|---|---|---|---|---|---|\n",
       "| 18-29 | 1     | \n",
       "| 18-29 | 1     | \n",
       "| 18-29 | 1     | \n",
       "| 18-29 | 1     | \n",
       "| 18-29 | 1     | \n",
       "| 18-29 | 1     | \n",
       "\n",
       "\n"
      ],
      "text/plain": [
       "  age   smart1\n",
       "1 18-29 1     \n",
       "2 18-29 1     \n",
       "3 18-29 1     \n",
       "4 18-29 1     \n",
       "5 18-29 1     \n",
       "6 18-29 1     "
      ]
     },
     "metadata": {},
     "output_type": "display_data"
    }
   ],
   "source": [
    "test <- arrange(test,age)\n",
    "head(test)"
   ]
  },
  {
   "cell_type": "markdown",
   "metadata": {},
   "source": [
    "We now group the data according to age and smartphone usage and get a count of how many users have/don't have smartphones, within their respective age groups"
   ]
  },
  {
   "cell_type": "code",
   "execution_count": 6,
   "metadata": {
    "collapsed": true
   },
   "outputs": [],
   "source": [
    "test <- test %>% select(age,smart1) %>% group_by(age,smart1)\n",
    "test <- count(test,c('age','smart1'))"
   ]
  },
  {
   "cell_type": "markdown",
   "metadata": {
    "collapsed": false
   },
   "source": [
    "We get a total count of users who have/don't have smartphones, per age group, and combine it with the data above, so we have the total users per age group, and the number of users who use/don't use smartphones, within that age group"
   ]
  },
  {
   "cell_type": "code",
   "execution_count": 7,
   "metadata": {
    "collapsed": false
   },
   "outputs": [
    {
     "name": "stderr",
     "output_type": "stream",
     "text": [
      "Using freq as weighting variable\n"
     ]
    }
   ],
   "source": [
    "c1<-count(test,'age')\n",
    "c2 <- right_join (test,c1, by=\"age\")\n"
   ]
  },
  {
   "cell_type": "markdown",
   "metadata": {
    "collapsed": true
   },
   "source": [
    "Now, we shall filter on the above data and keep only those rows where the respondents own smartphones, and then rename the columns accordingly."
   ]
  },
  {
   "cell_type": "code",
   "execution_count": 8,
   "metadata": {
    "collapsed": false
   },
   "outputs": [
    {
     "name": "stdout",
     "output_type": "stream",
     "text": [
      "\n",
      "Changing in c2                                     \n",
      "From: age smart1 freq.x        freq.y\n",
      "To:   age smart1 OwnSmartphone Total \n",
      "\n"
     ]
    }
   ],
   "source": [
    "c2<-filter(c2,smart1==1)\n",
    "c2 <- rename.vars(c2, c(\"age\",\"smart1\",\"freq.x\",\"freq.y\"), \n",
    "                      c(\"age\",\"smart1\",\"OwnSmartphone\",\"Total\"))"
   ]
  },
  {
   "cell_type": "markdown",
   "metadata": {
    "collapsed": true
   },
   "source": [
    "Now, using the above data, we add another column for the percentage of users who own smartphones, within an age group"
   ]
  },
  {
   "cell_type": "code",
   "execution_count": 9,
   "metadata": {
    "collapsed": false
   },
   "outputs": [],
   "source": [
    "c3<- select(c2,age,OwnSmartphone,Total)\n",
    "c3 <- mutate(c3, percent = OwnSmartphone*100/Total)"
   ]
  },
  {
   "cell_type": "markdown",
   "metadata": {
    "collapsed": true
   },
   "source": [
    "We plot the data using a bar plot"
   ]
  },
  {
   "cell_type": "code",
   "execution_count": 10,
   "metadata": {
    "collapsed": false
   },
   "outputs": [
    {
     "data": {
      "image/png": "[encoded data removed]",
      "text/plain": [
       "Plot with title \"Smartphone Ownership by Age Group\""
      ]
     },
     "metadata": {},
     "output_type": "display_data"
    }
   ],
   "source": [
    "bplt <- barplot(c3$percent, names = c3$age,col=rainbow(4),xlim=c(0,100),width=10,\n",
    "  xlab = \"Age Range\", ylab = \"Percentage of Smartphone Owners\", ylim=c(0,100),\n",
    "  main = \"Smartphone Ownership by Age Group\",legend = c3$age)\n",
    "text(bplt, c3$percent, labels=round(c3$percent), pos=3, offset=.1)\n"
   ]
  },
  {
   "cell_type": "markdown",
   "metadata": {},
   "source": [
    "From the above data, we can see that smartphone ownershp is very high among the age groups 18-29 and 30-49, with 91% of the respondents owning smartphones. This decreases significantly going further, whereas the group 50-64 has 71% respondents owning smartphones, respondents aged 65 and above have only 49% of the respondents owning smartphones.\n",
    "\n",
    "Hence, we have enough evidence to support our hypothesis that smartphone ownership is more prevalent in younger age-groups than in older ones."
   ]
  },
  {
   "cell_type": "markdown",
   "metadata": {},
   "source": [
    "<br>\n",
    "<br>\n",
    "<br>"
   ]
  },
  {
   "cell_type": "markdown",
   "metadata": {},
   "source": [
    "### Q.2 Smartphone ownership and Education\n",
    "\n",
    "Hypothesis:\n",
    "We are interested in finding whether there is relation between the education of respondents and whether they own a smartphone or not. In short, do people who are more educated prefer owning smartphones than those who are relatively less educated? \n",
    "My intuition says people who are more educated would have a preference for owning/using smartphones."
   ]
  },
  {
   "cell_type": "markdown",
   "metadata": {
    "collapsed": true
   },
   "source": [
    "First, we collect data related to education and smartphone ownership of the respondents, and remove invalid(NA) values"
   ]
  },
  {
   "cell_type": "code",
   "execution_count": 11,
   "metadata": {
    "collapsed": false
   },
   "outputs": [],
   "source": [
    "#Get rows where user have answered yes/no to owning smartphones\n",
    "q2 <- data %>% select(educ2,smart1) %>% filter((smart1==1|smart1==2))\n",
    "q2 <- na.omit(q2)\n"
   ]
  },
  {
   "cell_type": "markdown",
   "metadata": {
    "collapsed": false
   },
   "source": [
    "We remove the rows where education data is either 'Unknown' OR the respondent refused to answer, and then proceed to categorize the data with the correct labels ( 1 & 2 = Less then high school, 8 = Post graduation etc )"
   ]
  },
  {
   "cell_type": "code",
   "execution_count": 12,
   "metadata": {
    "collapsed": true
   },
   "outputs": [],
   "source": [
    "q2 <- filter(q2,(educ2!=98) & (educ2!=99))"
   ]
  },
  {
   "cell_type": "code",
   "execution_count": 13,
   "metadata": {
    "collapsed": false
   },
   "outputs": [],
   "source": [
    "test1 <- q2\n"
   ]
  },
  {
   "cell_type": "code",
   "execution_count": 14,
   "metadata": {
    "collapsed": true
   },
   "outputs": [],
   "source": [
    "test1$educ2[test1$educ2 == \"1\"|test1$educ2 == \"2\"] <- \"LT High School\"\n",
    "# test1$educ2[test1$educ2 == \"1\"|test1$educ2 == \"2\"] <- \"LT High School\"\n",
    "test1$educ2[test1$educ2 == \"3\"] <- \"High School Grad\"\n",
    "test1$educ2[test1$educ2 == \"4\"|test1$educ2 == \"5\"] <- \"Some Colg/2 Year Degree\"\n",
    "test1$educ2[test1$educ2 == \"6\"|test1$educ2 == \"7\"] <- \"4 Yr Colg/University +\"\n",
    "test1$educ2[test1$educ2 == \"8\"] <- \"Postgrad degree\"\n"
   ]
  },
  {
   "cell_type": "code",
   "execution_count": 17,
   "metadata": {
    "collapsed": true
   },
   "outputs": [],
   "source": [
    "test1 <- arrange(test1,educ2)"
   ]
  },
  {
   "cell_type": "markdown",
   "metadata": {},
   "source": [
    "We group the data together and get a count for the number of respondents for each category"
   ]
  },
  {
   "cell_type": "code",
   "execution_count": 18,
   "metadata": {
    "collapsed": false
   },
   "outputs": [
    {
     "data": {
      "text/html": [
       "<table>\n",
       "<thead><tr><th scope=col>educ2</th><th scope=col>smart1</th><th scope=col>freq</th></tr></thead>\n",
       "<tbody>\n",
       "\t<tr><td>4 Yr Colg/University +</td><td>1                     </td><td>352                   </td></tr>\n",
       "\t<tr><td>4 Yr Colg/University +</td><td>2                     </td><td> 72                   </td></tr>\n",
       "\t<tr><td>High School Grad      </td><td>1                     </td><td>252                   </td></tr>\n",
       "\t<tr><td>High School Grad      </td><td>2                     </td><td>149                   </td></tr>\n",
       "\t<tr><td>LT High School        </td><td>1                     </td><td> 62                   </td></tr>\n",
       "\t<tr><td>LT High School        </td><td>2                     </td><td> 45                   </td></tr>\n",
       "</tbody>\n",
       "</table>\n"
      ],
      "text/latex": [
       "\\begin{tabular}{r|lll}\n",
       " educ2 & smart1 & freq\\\\\n",
       "\\hline\n",
       "\t 4 Yr Colg/University + & 1                      & 352                   \\\\\n",
       "\t 4 Yr Colg/University + & 2                      &  72                   \\\\\n",
       "\t High School Grad       & 1                      & 252                   \\\\\n",
       "\t High School Grad       & 2                      & 149                   \\\\\n",
       "\t LT High School         & 1                      &  62                   \\\\\n",
       "\t LT High School         & 2                      &  45                   \\\\\n",
       "\\end{tabular}\n"
      ],
      "text/markdown": [
       "\n",
       "educ2 | smart1 | freq | \n",
       "|---|---|---|---|---|---|\n",
       "| 4 Yr Colg/University + | 1                      | 352                    | \n",
       "| 4 Yr Colg/University + | 2                      |  72                    | \n",
       "| High School Grad       | 1                      | 252                    | \n",
       "| High School Grad       | 2                      | 149                    | \n",
       "| LT High School         | 1                      |  62                    | \n",
       "| LT High School         | 2                      |  45                    | \n",
       "\n",
       "\n"
      ],
      "text/plain": [
       "  educ2                  smart1 freq\n",
       "1 4 Yr Colg/University + 1      352 \n",
       "2 4 Yr Colg/University + 2       72 \n",
       "3 High School Grad       1      252 \n",
       "4 High School Grad       2      149 \n",
       "5 LT High School         1       62 \n",
       "6 LT High School         2       45 "
      ]
     },
     "metadata": {},
     "output_type": "display_data"
    }
   ],
   "source": [
    "# data.frame(table(test$smart1))\n",
    "test1 <- count(test1,c('educ2','smart1'))\n",
    "head(test1)"
   ]
  },
  {
   "cell_type": "code",
   "execution_count": 19,
   "metadata": {
    "collapsed": false
   },
   "outputs": [
    {
     "name": "stderr",
     "output_type": "stream",
     "text": [
      "Using freq as weighting variable\n"
     ]
    }
   ],
   "source": [
    "q2c <- count(test1,'educ2')\n"
   ]
  },
  {
   "cell_type": "markdown",
   "metadata": {
    "collapsed": true
   },
   "source": [
    "We now join the original data with the total count for each individual category, whether or not they own a smartphone"
   ]
  },
  {
   "cell_type": "code",
   "execution_count": 20,
   "metadata": {
    "collapsed": false
   },
   "outputs": [],
   "source": [
    "q2c1 <- right_join (test1,q2c, by=\"educ2\")\n"
   ]
  },
  {
   "cell_type": "markdown",
   "metadata": {},
   "source": [
    "Only keep those rows where users own smartphones, and rename the columns accordingly."
   ]
  },
  {
   "cell_type": "code",
   "execution_count": 21,
   "metadata": {
    "collapsed": false
   },
   "outputs": [],
   "source": [
    "q2c2<-filter(q2c1,smart1==1)"
   ]
  },
  {
   "cell_type": "code",
   "execution_count": 22,
   "metadata": {
    "collapsed": false,
    "scrolled": true
   },
   "outputs": [
    {
     "name": "stdout",
     "output_type": "stream",
     "text": [
      "\n",
      "Changing in q2c2                                           \n",
      "From: educ2     smart1 freq.x        freq.y\n",
      "To:   Education smart1 OwnSmartPhone Total \n",
      "\n"
     ]
    }
   ],
   "source": [
    "q2c2 <- rename.vars(q2c2, c(\"educ2\",\"smart1\",\"freq.x\",\"freq.y\"), \n",
    "                                  c(\"Education\",\"smart1\",\"OwnSmartPhone\",\"Total\"))"
   ]
  },
  {
   "cell_type": "markdown",
   "metadata": {
    "collapsed": false,
    "scrolled": true
   },
   "source": [
    "Add a new column for percentage of users in each category, and plot the data"
   ]
  },
  {
   "cell_type": "code",
   "execution_count": 23,
   "metadata": {
    "collapsed": false
   },
   "outputs": [],
   "source": [
    "q2c3<- select(q2c2,Education,OwnSmartPhone,Total)\n",
    "q2c3 <- mutate(q2c3, percent = OwnSmartPhone*100/Total)"
   ]
  },
  {
   "cell_type": "code",
   "execution_count": 24,
   "metadata": {
    "collapsed": false,
    "scrolled": true
   },
   "outputs": [
    {
     "data": {
      "text/html": [
       "<table>\n",
       "<thead><tr><th scope=col>Education</th><th scope=col>OwnSmartPhone</th><th scope=col>Total</th><th scope=col>percent</th></tr></thead>\n",
       "<tbody>\n",
       "\t<tr><td>4 Yr Colg/University + </td><td>352                    </td><td>424                    </td><td>83.01887               </td></tr>\n",
       "\t<tr><td>High School Grad       </td><td>252                    </td><td>401                    </td><td>62.84289               </td></tr>\n",
       "\t<tr><td>LT High School         </td><td> 62                    </td><td>107                    </td><td>57.94393               </td></tr>\n",
       "\t<tr><td>Postgrad degree        </td><td>293                    </td><td>359                    </td><td>81.61560               </td></tr>\n",
       "\t<tr><td>Some Colg/2 Year Degree</td><td>355                    </td><td>477                    </td><td>74.42348               </td></tr>\n",
       "</tbody>\n",
       "</table>\n"
      ],
      "text/latex": [
       "\\begin{tabular}{r|llll}\n",
       " Education & OwnSmartPhone & Total & percent\\\\\n",
       "\\hline\n",
       "\t 4 Yr Colg/University +  & 352                     & 424                     & 83.01887               \\\\\n",
       "\t High School Grad        & 252                     & 401                     & 62.84289               \\\\\n",
       "\t LT High School          &  62                     & 107                     & 57.94393               \\\\\n",
       "\t Postgrad degree         & 293                     & 359                     & 81.61560               \\\\\n",
       "\t Some Colg/2 Year Degree & 355                     & 477                     & 74.42348               \\\\\n",
       "\\end{tabular}\n"
      ],
      "text/markdown": [
       "\n",
       "Education | OwnSmartPhone | Total | percent | \n",
       "|---|---|---|---|---|\n",
       "| 4 Yr Colg/University +  | 352                     | 424                     | 83.01887                | \n",
       "| High School Grad        | 252                     | 401                     | 62.84289                | \n",
       "| LT High School          |  62                     | 107                     | 57.94393                | \n",
       "| Postgrad degree         | 293                     | 359                     | 81.61560                | \n",
       "| Some Colg/2 Year Degree | 355                     | 477                     | 74.42348                | \n",
       "\n",
       "\n"
      ],
      "text/plain": [
       "  Education               OwnSmartPhone Total percent \n",
       "1 4 Yr Colg/University +  352           424   83.01887\n",
       "2 High School Grad        252           401   62.84289\n",
       "3 LT High School           62           107   57.94393\n",
       "4 Postgrad degree         293           359   81.61560\n",
       "5 Some Colg/2 Year Degree 355           477   74.42348"
      ]
     },
     "metadata": {},
     "output_type": "display_data"
    }
   ],
   "source": [
    "q2c3"
   ]
  },
  {
   "cell_type": "code",
   "execution_count": 25,
   "metadata": {
    "collapsed": false
   },
   "outputs": [
    {
     "data": {
      "image/png": "[encoded data removed]",
      "text/plain": [
       "Plot with title \"Smartphone Ownership by Education\""
      ]
     },
     "metadata": {},
     "output_type": "display_data"
    }
   ],
   "source": [
    "bplt2 <- barplot(q2c3$percent, names = q2c3$Education,col=rainbow(5),\n",
    "  xlab = \"Education\",\n",
    "                 ylab = \"Percentage of Smartphone Owners\", ylim=c(0,100),xlim=c(0,10),\n",
    "  main = \"Smartphone Ownership by Education\",\n",
    "                 legend = q2c3$Education,width=1,\n",
    "                args.legend = list(x ='topright', bty='n'), cex.axis=1.5,cex.names=0.5)\n",
    "text(bplt2, q2c3$percent, labels=round(q2c3$percent), pos=3, offset=.1)\n"
   ]
  },
  {
   "cell_type": "markdown",
   "metadata": {
    "collapsed": true
   },
   "source": [
    "We can see from the above data, out of those whose education was less than high school, only 58% of respondents owned smartphones. Comparing this with data across education levels, college graduates and post graduates had 82% of the respondents owning smartphones. This data validates our hypothesis that more educated people are more likely to use smartphones."
   ]
  },
  {
   "cell_type": "code",
   "execution_count": null,
   "metadata": {
    "collapsed": true
   },
   "outputs": [],
   "source": []
  },
  {
   "cell_type": "markdown",
   "metadata": {},
   "source": [
    "### Q.3 Parenthood and Full-time Employment\n",
    "\n",
    "Here, we want to study whether there is a correlation between being a parent and having a full-time job. By intuition, a respondent who is a parent of 1 or more child (under age 18), is more likely to have a full-time job, to support their child/children. \n",
    "\n",
    "Hypothesis: A parent of 1 child or more (under age 18),\n",
    "is more likely to have a full-time job than someone who is NOT a parent"
   ]
  },
  {
   "cell_type": "markdown",
   "metadata": {},
   "source": [
    "We collect data based on parenthood and current employment situation, and remove invalid entries"
   ]
  },
  {
   "cell_type": "code",
   "execution_count": 26,
   "metadata": {
    "collapsed": true
   },
   "outputs": [],
   "source": [
    "#Collect data where people have responded Yes or No to being a parent\n",
    "q3 <- data %>% select(par,emplnw) %>% filter((par==1|par==2) & ((emplnw==1 | emplnw==2 | emplnw==3 | emplnw==4)))\n"
   ]
  },
  {
   "cell_type": "code",
   "execution_count": 27,
   "metadata": {
    "collapsed": false
   },
   "outputs": [],
   "source": [
    "q3 <- na.omit(q3)\n"
   ]
  },
  {
   "cell_type": "markdown",
   "metadata": {},
   "source": [
    "We re-label the data with suitable labels, and arrange the data according to parenthood and employment"
   ]
  },
  {
   "cell_type": "code",
   "execution_count": 28,
   "metadata": {
    "collapsed": true
   },
   "outputs": [],
   "source": [
    "test3 <- q3"
   ]
  },
  {
   "cell_type": "code",
   "execution_count": 29,
   "metadata": {
    "collapsed": true
   },
   "outputs": [],
   "source": [
    "test3$par[test3$par == \"1\"] <- \"Yes\"\n",
    "test3$par[test3$par == \"2\"] <- \"No\"\n"
   ]
  },
  {
   "cell_type": "code",
   "execution_count": 30,
   "metadata": {
    "collapsed": true
   },
   "outputs": [],
   "source": [
    "test3$emplnw[test3$emplnw == \"1\"] <- \"Full-time\"\n",
    "test3$emplnw[test3$emplnw == \"2\"] <- \"Part-time\"\n",
    "test3$emplnw[test3$emplnw == \"3\"] <- \"Retired\"\n",
    "test3$emplnw[test3$emplnw == \"4\"] <- \"Not employed\"\n"
   ]
  },
  {
   "cell_type": "code",
   "execution_count": 31,
   "metadata": {
    "collapsed": true
   },
   "outputs": [],
   "source": [
    "test3 <- test3 %>% arrange(par,emplnw)\n"
   ]
  },
  {
   "cell_type": "markdown",
   "metadata": {},
   "source": [
    "Get a count of the total number of respondents for each category, and their group total, and combine the data, then rename the columns appropriately to make more sense"
   ]
  },
  {
   "cell_type": "code",
   "execution_count": 32,
   "metadata": {
    "collapsed": false
   },
   "outputs": [],
   "source": [
    "test3 <- count(test3,c('par','emplnw'))\n"
   ]
  },
  {
   "cell_type": "code",
   "execution_count": 33,
   "metadata": {
    "collapsed": false
   },
   "outputs": [
    {
     "name": "stderr",
     "output_type": "stream",
     "text": [
      "Using freq as weighting variable\n"
     ]
    }
   ],
   "source": [
    "q3c <- count(test3,'par')\n"
   ]
  },
  {
   "cell_type": "code",
   "execution_count": 34,
   "metadata": {
    "collapsed": false
   },
   "outputs": [],
   "source": [
    "q3c1 <- right_join(test3,q3c,by='par')\n"
   ]
  },
  {
   "cell_type": "code",
   "execution_count": 35,
   "metadata": {
    "collapsed": false
   },
   "outputs": [
    {
     "name": "stdout",
     "output_type": "stream",
     "text": [
      "\n",
      "Changing in q3c1                                     \n",
      "From: par    emplnw     freq.x freq.y\n",
      "To:   Parent Employment Count  Total \n",
      "\n"
     ]
    }
   ],
   "source": [
    "q3c1 <- rename.vars(q3c1, c(\"par\",\"emplnw\",\"freq.x\",\"freq.y\"), \n",
    "                          c(\"Parent\",\"Employment\",\"Count\",\"Total\"))"
   ]
  },
  {
   "cell_type": "markdown",
   "metadata": {},
   "source": [
    "Add a new column for percentage and then plot the data"
   ]
  },
  {
   "cell_type": "code",
   "execution_count": 36,
   "metadata": {
    "collapsed": false
   },
   "outputs": [],
   "source": [
    "# q3c1<- select(q3c1,Education,OwnSmartPhone,Total)\n",
    "q3c1 <- mutate(q3c1, percent = Count*100/Total)\n"
   ]
  },
  {
   "cell_type": "code",
   "execution_count": null,
   "metadata": {
    "collapsed": true
   },
   "outputs": [],
   "source": []
  },
  {
   "cell_type": "code",
   "execution_count": 37,
   "metadata": {
    "collapsed": false
   },
   "outputs": [
    {
     "data": {},
     "metadata": {},
     "output_type": "display_data"
    },
    {
     "data": {
      "image/png": "[encoded data removed]",
      "text/plain": [
       "plot without title"
      ]
     },
     "metadata": {},
     "output_type": "display_data"
    }
   ],
   "source": [
    "g3 <- ggplot(q3c1, aes((Parent), percent, fill = Employment)) + \n",
    "  geom_bar(stat=\"identity\", position = \"dodge\") + \n",
    " geom_text(aes(label=round(percent)), vjust=-1,position=position_dodge(.9), size=3) +\n",
    "scale_fill_brewer(palette = \"Set1\")+\n",
    "theme(plot.title = element_text(hjust = 0.5,face=\"bold\"))+xlab(\"Is a Parent?\")+ylab(\"Percentage\")+guides(fill=guide_legend(title=\"Employment Status\"))\n",
    "\n",
    "g3\n"
   ]
  },
  {
   "cell_type": "markdown",
   "metadata": {},
   "source": [
    "We can infer the following from the data above:\n",
    "1. 66% of the respondents who are parents are employed in full-time jobs\n",
    "2. Only 38% of the respondents who were NOT parents were employed in full-time jobs.\n",
    "\n",
    "This validates our hypothesis that an individual who is a parent is more likely to have a full-time job, than someone who is not a parent"
   ]
  },
  {
   "cell_type": "code",
   "execution_count": null,
   "metadata": {
    "collapsed": true
   },
   "outputs": [],
   "source": []
  },
  {
   "cell_type": "code",
   "execution_count": null,
   "metadata": {
    "collapsed": true
   },
   "outputs": [],
   "source": []
  },
  {
   "cell_type": "markdown",
   "metadata": {},
   "source": [
    "### Q.4 Political affiliation vs Race\n",
    "\n",
    "Politics is often a dividing issue amongst people, and although race never compels an individual to vote for a certain party, but we can gather data to infer if people from a certain race are more likely to identify themselves as supporters of one party.\n",
    "\n",
    "We gather the data where respondents have chosen to be either a Democrat, Republican or are Independent. The race groups we are studying are: White, Black/African-American, Asian or Pacific Islander, Mixed race and Native Americans."
   ]
  },
  {
   "cell_type": "code",
   "execution_count": 38,
   "metadata": {
    "collapsed": false
   },
   "outputs": [],
   "source": [
    "q4 <- data %>% select(party,race) %>% filter(party==1|party==2|party==3)\n"
   ]
  },
  {
   "cell_type": "code",
   "execution_count": 39,
   "metadata": {
    "collapsed": false
   },
   "outputs": [],
   "source": [
    "q4 <- filter(q4, (race==1|race==2|race==3|race==4|race==5))\n"
   ]
  },
  {
   "cell_type": "code",
   "execution_count": 40,
   "metadata": {
    "collapsed": true
   },
   "outputs": [],
   "source": [
    "q4 <- na.omit(q4)"
   ]
  },
  {
   "cell_type": "markdown",
   "metadata": {},
   "source": [
    "Labeling the data correctly, translating the values to their actual meaning and sorting it by party and race"
   ]
  },
  {
   "cell_type": "code",
   "execution_count": 41,
   "metadata": {
    "collapsed": true
   },
   "outputs": [],
   "source": [
    "q4$party[q4$party == \"1\"] <- \"Republican\"\n",
    "q4$party[q4$party == \"2\"] <- \"Democrat\"\n",
    "q4$party[q4$party == \"3\"] <- \"Independent\"\n",
    "q4$race[q4$race == \"1\"] <- \"White\"\n",
    "q4$race[q4$race == \"2\"] <- \"Afr-American\"\n",
    "q4$race[q4$race == \"3\"] <- \"Asian\"\n",
    "q4$race[q4$race == \"4\"] <- \"Mixed\"\n",
    "q4$race[q4$race == \"5\"] <- \"Native American\"\n"
   ]
  },
  {
   "cell_type": "code",
   "execution_count": 42,
   "metadata": {
    "collapsed": true
   },
   "outputs": [],
   "source": [
    "q4 <- arrange(q4,party,race)\n"
   ]
  },
  {
   "cell_type": "markdown",
   "metadata": {},
   "source": [
    "Counting values for each race, and combining with the total number of values"
   ]
  },
  {
   "cell_type": "code",
   "execution_count": 43,
   "metadata": {
    "collapsed": false
   },
   "outputs": [],
   "source": [
    "q4 <- count(q4,c('race','party'))\n"
   ]
  },
  {
   "cell_type": "code",
   "execution_count": 44,
   "metadata": {
    "collapsed": false
   },
   "outputs": [
    {
     "name": "stderr",
     "output_type": "stream",
     "text": [
      "Using freq as weighting variable\n"
     ]
    }
   ],
   "source": [
    "q4c <- count(q4,'race')\n"
   ]
  },
  {
   "cell_type": "code",
   "execution_count": 45,
   "metadata": {
    "collapsed": false
   },
   "outputs": [],
   "source": [
    "q4j <- right_join(q4,q4c,by='race')\n"
   ]
  },
  {
   "cell_type": "markdown",
   "metadata": {},
   "source": [
    "Renaming the columns appropriately, and adding a new column for percentage, and plotting the data"
   ]
  },
  {
   "cell_type": "code",
   "execution_count": 46,
   "metadata": {
    "collapsed": false
   },
   "outputs": [
    {
     "name": "stdout",
     "output_type": "stream",
     "text": [
      "\n",
      "Changing in q4j                              \n",
      "From: race party freq.x freq.y\n",
      "To:   race party count  Total \n",
      "\n"
     ]
    }
   ],
   "source": [
    "q4j <- rename.vars(q4j, c(\"race\",\"party\",\"freq.x\",\"freq.y\"), \n",
    "                          c(\"race\",\"party\",\"count\",\"Total\"))\n"
   ]
  },
  {
   "cell_type": "code",
   "execution_count": 47,
   "metadata": {
    "collapsed": false
   },
   "outputs": [
    {
     "data": {
      "text/html": [
       "<table>\n",
       "<thead><tr><th scope=col>race</th><th scope=col>party</th><th scope=col>count</th><th scope=col>Total</th><th scope=col>percent</th></tr></thead>\n",
       "<tbody>\n",
       "\t<tr><td>Afr-American   </td><td>Democrat       </td><td>140            </td><td> 220           </td><td>63.636364      </td></tr>\n",
       "\t<tr><td>Afr-American   </td><td>Independent    </td><td> 63            </td><td> 220           </td><td>28.636364      </td></tr>\n",
       "\t<tr><td>Afr-American   </td><td>Republican     </td><td> 17            </td><td> 220           </td><td> 7.727273      </td></tr>\n",
       "\t<tr><td>Asian          </td><td>Democrat       </td><td> 13            </td><td>  44           </td><td>29.545455      </td></tr>\n",
       "\t<tr><td>Asian          </td><td>Independent    </td><td> 20            </td><td>  44           </td><td>45.454545      </td></tr>\n",
       "\t<tr><td>Asian          </td><td>Republican     </td><td> 11            </td><td>  44           </td><td>25.000000      </td></tr>\n",
       "\t<tr><td>Mixed          </td><td>Democrat       </td><td> 15            </td><td>  39           </td><td>38.461538      </td></tr>\n",
       "\t<tr><td>Mixed          </td><td>Independent    </td><td> 20            </td><td>  39           </td><td>51.282051      </td></tr>\n",
       "\t<tr><td>Mixed          </td><td>Republican     </td><td>  4            </td><td>  39           </td><td>10.256410      </td></tr>\n",
       "\t<tr><td>Native American</td><td>Democrat       </td><td>  6            </td><td>  15           </td><td>40.000000      </td></tr>\n",
       "\t<tr><td>Native American</td><td>Independent    </td><td>  5            </td><td>  15           </td><td>33.333333      </td></tr>\n",
       "\t<tr><td>Native American</td><td>Republican     </td><td>  4            </td><td>  15           </td><td>26.666667      </td></tr>\n",
       "\t<tr><td>White          </td><td>Democrat       </td><td>409            </td><td>1345           </td><td>30.408922      </td></tr>\n",
       "\t<tr><td>White          </td><td>Independent    </td><td>541            </td><td>1345           </td><td>40.223048      </td></tr>\n",
       "\t<tr><td>White          </td><td>Republican     </td><td>395            </td><td>1345           </td><td>29.368030      </td></tr>\n",
       "</tbody>\n",
       "</table>\n"
      ],
      "text/latex": [
       "\\begin{tabular}{r|lllll}\n",
       " race & party & count & Total & percent\\\\\n",
       "\\hline\n",
       "\t Afr-American    & Democrat        & 140             &  220            & 63.636364      \\\\\n",
       "\t Afr-American    & Independent     &  63             &  220            & 28.636364      \\\\\n",
       "\t Afr-American    & Republican      &  17             &  220            &  7.727273      \\\\\n",
       "\t Asian           & Democrat        &  13             &   44            & 29.545455      \\\\\n",
       "\t Asian           & Independent     &  20             &   44            & 45.454545      \\\\\n",
       "\t Asian           & Republican      &  11             &   44            & 25.000000      \\\\\n",
       "\t Mixed           & Democrat        &  15             &   39            & 38.461538      \\\\\n",
       "\t Mixed           & Independent     &  20             &   39            & 51.282051      \\\\\n",
       "\t Mixed           & Republican      &   4             &   39            & 10.256410      \\\\\n",
       "\t Native American & Democrat        &   6             &   15            & 40.000000      \\\\\n",
       "\t Native American & Independent     &   5             &   15            & 33.333333      \\\\\n",
       "\t Native American & Republican      &   4             &   15            & 26.666667      \\\\\n",
       "\t White           & Democrat        & 409             & 1345            & 30.408922      \\\\\n",
       "\t White           & Independent     & 541             & 1345            & 40.223048      \\\\\n",
       "\t White           & Republican      & 395             & 1345            & 29.368030      \\\\\n",
       "\\end{tabular}\n"
      ],
      "text/markdown": [
       "\n",
       "race | party | count | Total | percent | \n",
       "|---|---|---|---|---|---|---|---|---|---|---|---|---|---|---|\n",
       "| Afr-American    | Democrat        | 140             |  220            | 63.636364       | \n",
       "| Afr-American    | Independent     |  63             |  220            | 28.636364       | \n",
       "| Afr-American    | Republican      |  17             |  220            |  7.727273       | \n",
       "| Asian           | Democrat        |  13             |   44            | 29.545455       | \n",
       "| Asian           | Independent     |  20             |   44            | 45.454545       | \n",
       "| Asian           | Republican      |  11             |   44            | 25.000000       | \n",
       "| Mixed           | Democrat        |  15             |   39            | 38.461538       | \n",
       "| Mixed           | Independent     |  20             |   39            | 51.282051       | \n",
       "| Mixed           | Republican      |   4             |   39            | 10.256410       | \n",
       "| Native American | Democrat        |   6             |   15            | 40.000000       | \n",
       "| Native American | Independent     |   5             |   15            | 33.333333       | \n",
       "| Native American | Republican      |   4             |   15            | 26.666667       | \n",
       "| White           | Democrat        | 409             | 1345            | 30.408922       | \n",
       "| White           | Independent     | 541             | 1345            | 40.223048       | \n",
       "| White           | Republican      | 395             | 1345            | 29.368030       | \n",
       "\n",
       "\n"
      ],
      "text/plain": [
       "   race            party       count Total percent  \n",
       "1  Afr-American    Democrat    140    220  63.636364\n",
       "2  Afr-American    Independent  63    220  28.636364\n",
       "3  Afr-American    Republican   17    220   7.727273\n",
       "4  Asian           Democrat     13     44  29.545455\n",
       "5  Asian           Independent  20     44  45.454545\n",
       "6  Asian           Republican   11     44  25.000000\n",
       "7  Mixed           Democrat     15     39  38.461538\n",
       "8  Mixed           Independent  20     39  51.282051\n",
       "9  Mixed           Republican    4     39  10.256410\n",
       "10 Native American Democrat      6     15  40.000000\n",
       "11 Native American Independent   5     15  33.333333\n",
       "12 Native American Republican    4     15  26.666667\n",
       "13 White           Democrat    409   1345  30.408922\n",
       "14 White           Independent 541   1345  40.223048\n",
       "15 White           Republican  395   1345  29.368030"
      ]
     },
     "metadata": {},
     "output_type": "display_data"
    }
   ],
   "source": [
    "q4j <- mutate(q4j, percent = count*100/Total)\n",
    "q4j\n"
   ]
  },
  {
   "cell_type": "code",
   "execution_count": 48,
   "metadata": {
    "collapsed": false,
    "scrolled": false
   },
   "outputs": [
    {
     "data": {},
     "metadata": {},
     "output_type": "display_data"
    },
    {
     "data": {
      "image/png": "[encoded data removed]",
      "text/plain": [
       "plot without title"
      ]
     },
     "metadata": {},
     "output_type": "display_data"
    }
   ],
   "source": [
    "g4 <- ggplot(q4j, aes((race), percent, fill = party),ylab=\"Percentage\",xlab=\"Race\") + \n",
    "  geom_bar(stat=\"identity\", position = \"dodge\") + \n",
    " geom_text(aes(label=round(percent)), vjust=-1,position=position_dodge(.9), size=3)+ \n",
    "scale_fill_manual(values = c(\"darkblue\",\"seagreen4\",\"red\")) + ggtitle(\"Race vs Party Affiliation\") +\n",
    "  theme(plot.title = element_text(hjust = 0.5,face=\"bold\"))+xlab(\"Race\")+ylab(\"Percentage\")+guides(fill=guide_legend(title=\"Party\"))\n",
    "\n",
    "g4"
   ]
  },
  {
   "cell_type": "markdown",
   "metadata": {},
   "source": [
    "We infer the following from the above data:\n",
    "1. 64% African-Americans identify themselves as Democrat supporters, whereas only 8% within this group\n",
    "   identifies as Republican supporters\n",
    "2. 30% Asians are Democrat supporters, whereas 25% are Republican supporters\n",
    "3. Amongst mixed race respondents, 38% are Democrat supporters, whereas only 10% are Republican supporters\n",
    "4. Native Americans have 40% people as Democrat supporters and 27% support Republicans\n",
    "5. White people more or less equally support both Democrats(30%) and Republicans(29%)"
   ]
  },
  {
   "cell_type": "markdown",
   "metadata": {},
   "source": [
    "<br><br><br>"
   ]
  },
  {
   "cell_type": "markdown",
   "metadata": {},
   "source": [
    "### Q.5 Education vs Manual/Physical Labor Jobs\n",
    "\n",
    "Is there a relation between the level of education of an individual and whether or not his job involves manual/physical labor? By intuition, I believe that a higher level of education is associated with lesser number of manual/physical labor jobs, and a lower level of education would indicate a higher presence in manual labor jobs.\n",
    "\n",
    "We gather data about the educational qualifications and whether their current employment involves manual/physical labor or not."
   ]
  },
  {
   "cell_type": "code",
   "execution_count": 49,
   "metadata": {
    "collapsed": false
   },
   "outputs": [],
   "source": [
    "q5 <- data %>% select(educ2,emptype2) %>% filter((emptype2==1|emptype2==2) & ((educ2!=98) & (educ2!=99)))\n"
   ]
  },
  {
   "cell_type": "markdown",
   "metadata": {},
   "source": [
    "Translate the values to appropriate labels and omit NA values"
   ]
  },
  {
   "cell_type": "code",
   "execution_count": 50,
   "metadata": {
    "collapsed": false,
    "scrolled": true
   },
   "outputs": [],
   "source": [
    "q5$educ2[q5$educ2 == \"1\"|q5$educ2 == \"2\"] <- \"LT High School\"\n",
    "q5$educ2[q5$educ2 == \"3\"] <- \"High School Grad\"\n",
    "q5$educ2[q5$educ2 == \"4\"|q5$educ2 == \"5\"] <- \"Some Colg/2 Year Degree\"\n",
    "q5$educ2[q5$educ2 == \"6\"|q5$educ2 == \"7\"|q5$educ2 == \"8\"] <- \"Colg Grad + \"\n",
    "q5$emptype2[q5$emptype2 == \"1\"] <- \"Yes\"\n",
    "q5$emptype2[q5$emptype2 == \"2\"] <- \"No\"\n",
    "\n"
   ]
  },
  {
   "cell_type": "code",
   "execution_count": 51,
   "metadata": {
    "collapsed": true
   },
   "outputs": [],
   "source": [
    "q5 <- na.omit(q5)\n"
   ]
  },
  {
   "cell_type": "markdown",
   "metadata": {},
   "source": [
    "Sort the data accordingly, get a count of the individual groups and add a total column"
   ]
  },
  {
   "cell_type": "code",
   "execution_count": 52,
   "metadata": {
    "collapsed": false,
    "scrolled": true
   },
   "outputs": [],
   "source": [
    "q5 <- arrange(q5,educ2,emptype2)\n"
   ]
  },
  {
   "cell_type": "code",
   "execution_count": 53,
   "metadata": {
    "collapsed": true
   },
   "outputs": [],
   "source": [
    "q5<- count(q5,c('educ2','emptype2'))\n"
   ]
  },
  {
   "cell_type": "code",
   "execution_count": 54,
   "metadata": {
    "collapsed": false,
    "scrolled": true
   },
   "outputs": [
    {
     "name": "stderr",
     "output_type": "stream",
     "text": [
      "Using freq as weighting variable\n"
     ]
    }
   ],
   "source": [
    "q5c <- count(q5,'emptype2')\n"
   ]
  },
  {
   "cell_type": "code",
   "execution_count": 55,
   "metadata": {
    "collapsed": true
   },
   "outputs": [],
   "source": [
    "q5c2 <- right_join(q5,q5c, by='emptype2')\n"
   ]
  },
  {
   "cell_type": "markdown",
   "metadata": {},
   "source": [
    "Rename the columns, add a column for percentage and plot the data"
   ]
  },
  {
   "cell_type": "code",
   "execution_count": 56,
   "metadata": {
    "collapsed": false,
    "scrolled": true
   },
   "outputs": [
    {
     "name": "stdout",
     "output_type": "stream",
     "text": [
      "\n",
      "Changing in q5c2                                         \n",
      "From: educ2     emptype2    freq.x freq.y\n",
      "To:   Education ManualLabor Count  Total \n",
      "\n"
     ]
    }
   ],
   "source": [
    "q5c2 <- rename.vars(q5c2, c(\"educ2\",\"emptype2\",\"freq.x\",\"freq.y\"), \n",
    "                          c(\"Education\",\"ManualLabor\",\"Count\",\"Total\"))"
   ]
  },
  {
   "cell_type": "code",
   "execution_count": 57,
   "metadata": {
    "collapsed": false,
    "scrolled": true
   },
   "outputs": [
    {
     "data": {
      "text/html": [
       "<table>\n",
       "<thead><tr><th scope=col>Education</th><th scope=col>ManualLabor</th><th scope=col>Count</th><th scope=col>Total</th><th scope=col>percent</th></tr></thead>\n",
       "<tbody>\n",
       "\t<tr><td>Colg Grad +            </td><td>No                     </td><td>450                    </td><td>651                    </td><td>69.124424              </td></tr>\n",
       "\t<tr><td>High School Grad       </td><td>No                     </td><td> 56                    </td><td>651                    </td><td> 8.602151              </td></tr>\n",
       "\t<tr><td>LT High School         </td><td>No                     </td><td>  8                    </td><td>651                    </td><td> 1.228879              </td></tr>\n",
       "\t<tr><td>Some Colg/2 Year Degree</td><td>No                     </td><td>137                    </td><td>651                    </td><td>21.044547              </td></tr>\n",
       "\t<tr><td>Colg Grad +            </td><td>Yes                    </td><td> 86                    </td><td>442                    </td><td>19.457014              </td></tr>\n",
       "\t<tr><td>High School Grad       </td><td>Yes                    </td><td>163                    </td><td>442                    </td><td>36.877828              </td></tr>\n",
       "\t<tr><td>LT High School         </td><td>Yes                    </td><td> 43                    </td><td>442                    </td><td> 9.728507              </td></tr>\n",
       "\t<tr><td>Some Colg/2 Year Degree</td><td>Yes                    </td><td>150                    </td><td>442                    </td><td>33.936652              </td></tr>\n",
       "</tbody>\n",
       "</table>\n"
      ],
      "text/latex": [
       "\\begin{tabular}{r|lllll}\n",
       " Education & ManualLabor & Count & Total & percent\\\\\n",
       "\\hline\n",
       "\t Colg Grad +             & No                      & 450                     & 651                     & 69.124424              \\\\\n",
       "\t High School Grad        & No                      &  56                     & 651                     &  8.602151              \\\\\n",
       "\t LT High School          & No                      &   8                     & 651                     &  1.228879              \\\\\n",
       "\t Some Colg/2 Year Degree & No                      & 137                     & 651                     & 21.044547              \\\\\n",
       "\t Colg Grad +             & Yes                     &  86                     & 442                     & 19.457014              \\\\\n",
       "\t High School Grad        & Yes                     & 163                     & 442                     & 36.877828              \\\\\n",
       "\t LT High School          & Yes                     &  43                     & 442                     &  9.728507              \\\\\n",
       "\t Some Colg/2 Year Degree & Yes                     & 150                     & 442                     & 33.936652              \\\\\n",
       "\\end{tabular}\n"
      ],
      "text/markdown": [
       "\n",
       "Education | ManualLabor | Count | Total | percent | \n",
       "|---|---|---|---|---|---|---|---|\n",
       "| Colg Grad +             | No                      | 450                     | 651                     | 69.124424               | \n",
       "| High School Grad        | No                      |  56                     | 651                     |  8.602151               | \n",
       "| LT High School          | No                      |   8                     | 651                     |  1.228879               | \n",
       "| Some Colg/2 Year Degree | No                      | 137                     | 651                     | 21.044547               | \n",
       "| Colg Grad +             | Yes                     |  86                     | 442                     | 19.457014               | \n",
       "| High School Grad        | Yes                     | 163                     | 442                     | 36.877828               | \n",
       "| LT High School          | Yes                     |  43                     | 442                     |  9.728507               | \n",
       "| Some Colg/2 Year Degree | Yes                     | 150                     | 442                     | 33.936652               | \n",
       "\n",
       "\n"
      ],
      "text/plain": [
       "  Education               ManualLabor Count Total percent  \n",
       "1 Colg Grad +             No          450   651   69.124424\n",
       "2 High School Grad        No           56   651    8.602151\n",
       "3 LT High School          No            8   651    1.228879\n",
       "4 Some Colg/2 Year Degree No          137   651   21.044547\n",
       "5 Colg Grad +             Yes          86   442   19.457014\n",
       "6 High School Grad        Yes         163   442   36.877828\n",
       "7 LT High School          Yes          43   442    9.728507\n",
       "8 Some Colg/2 Year Degree Yes         150   442   33.936652"
      ]
     },
     "metadata": {},
     "output_type": "display_data"
    }
   ],
   "source": [
    "q5c2 <- mutate(q5c2,percent=Count*100/Total)\n",
    "q5c2"
   ]
  },
  {
   "cell_type": "code",
   "execution_count": 58,
   "metadata": {
    "collapsed": false
   },
   "outputs": [
    {
     "data": {},
     "metadata": {},
     "output_type": "display_data"
    },
    {
     "data": {
      "image/png": "[encoded data removed]",
      "text/plain": [
       "plot without title"
      ]
     },
     "metadata": {},
     "output_type": "display_data"
    }
   ],
   "source": [
    "g5 <- ggplot(q5c2, aes((ManualLabor), percent, fill = Education),ylab=\"Percentage\",xlab=\"Does job entail physical labor?\") + \n",
    "  geom_bar(stat=\"identity\", position = \"dodge\") + \n",
    " geom_text(aes(label=round(percent)), vjust=-1,position=position_dodge(.9), size=3)+ \n",
    "scale_fill_brewer(palette=\"Set1\") + ggtitle(\"Education vs Physical Labor Jobs\") +\n",
    "  theme(plot.title = element_text(hjust = 0.5,face=\"bold\"))+xlab(\"Does job involve physical labor?\")+ylab(\"Percentage\")+guides(fill=guide_legend(title=\"Education\"))\n",
    "g5"
   ]
  },
  {
   "cell_type": "markdown",
   "metadata": {},
   "source": [
    "We infer the following from the plot above:\n",
    "1. Out of individuals whose job does NOT contain physical labor, 69% are at least college graduates (and above)\n",
    "2. Individuals whose job does involve physical labor, only 19% are college graduates and above\n",
    "3. In physical labor jobs, 47% individuals have education level of high school graduate or lesser\n",
    "\n",
    "Thus, this proves the intuition that an individual with higher level of education is less likely to be employed in a physically laborious job than someone with relatively lesser education."
   ]
  },
  {
   "cell_type": "code",
   "execution_count": null,
   "metadata": {
    "collapsed": true
   },
   "outputs": [],
   "source": []
  },
  {
   "cell_type": "code",
   "execution_count": null,
   "metadata": {
    "collapsed": true
   },
   "outputs": [],
   "source": []
  },
  {
   "cell_type": "code",
   "execution_count": null,
   "metadata": {
    "collapsed": true
   },
   "outputs": [],
   "source": []
  },
  {
   "cell_type": "markdown",
   "metadata": {},
   "source": [
    "### Q.6 Income vs Physical Labor Employment\n",
    "\n",
    "This question deals with the relation between a physical labor job and income. Generally, such jobs don't result in a very high pay. We try to infer this from the data we have.\n",
    "\n",
    "We first take the income data and employment(physical labor or not) data for the respondents, and translate the values to appropriate labels, and then removing the invalid values."
   ]
  },
  {
   "cell_type": "code",
   "execution_count": 59,
   "metadata": {
    "collapsed": false
   },
   "outputs": [],
   "source": [
    "q6 <- data %>% select(inc,emptype2) %>% filter((emptype2==1|emptype2==2) & ((inc!=98) & (inc!=99)))\n"
   ]
  },
  {
   "cell_type": "code",
   "execution_count": null,
   "metadata": {
    "collapsed": false,
    "scrolled": true
   },
   "outputs": [],
   "source": []
  },
  {
   "cell_type": "code",
   "execution_count": 60,
   "metadata": {
    "collapsed": false,
    "scrolled": true
   },
   "outputs": [],
   "source": [
    "q6$inc[q6$inc == \"1\"|q6$inc == \"2\"|q6$inc==\"3\"] <- \"<30K\"\n",
    "q6$inc[q6$inc == \"4\"|q6$inc==\"5\"] <- \"30-50K\"\n",
    "q6$inc[q6$inc == \"6\"] <- \"50-75K\"\n",
    "q6$inc[q6$inc == \"7\"|q6$inc == \"8\"|q6$inc == \"9\"] <- \"Over 75K \"\n",
    "q6$emptype2[q6$emptype2 == \"1\"] <- \"Yes\"\n",
    "q6$emptype2[q6$emptype2 == \"2\"] <- \"No\"\n",
    "\n"
   ]
  },
  {
   "cell_type": "code",
   "execution_count": 61,
   "metadata": {
    "collapsed": false,
    "scrolled": true
   },
   "outputs": [],
   "source": [
    "q6 <- na.omit(q6)\n"
   ]
  },
  {
   "cell_type": "markdown",
   "metadata": {},
   "source": [
    "We sort the data by income and employment type, count the number of entries for each group, and add a column for the total number of values per group"
   ]
  },
  {
   "cell_type": "code",
   "execution_count": 62,
   "metadata": {
    "collapsed": false,
    "scrolled": true
   },
   "outputs": [],
   "source": [
    "q6 <- arrange(q6,inc,emptype2)\n"
   ]
  },
  {
   "cell_type": "code",
   "execution_count": 63,
   "metadata": {
    "collapsed": false,
    "scrolled": true
   },
   "outputs": [],
   "source": [
    "q6<- count(q6,c('inc','emptype2'))\n"
   ]
  },
  {
   "cell_type": "code",
   "execution_count": 64,
   "metadata": {
    "collapsed": false,
    "scrolled": true
   },
   "outputs": [
    {
     "name": "stderr",
     "output_type": "stream",
     "text": [
      "Using freq as weighting variable\n"
     ]
    }
   ],
   "source": [
    "q6c <- count(q6,'emptype2')\n"
   ]
  },
  {
   "cell_type": "code",
   "execution_count": 65,
   "metadata": {
    "collapsed": false,
    "scrolled": true
   },
   "outputs": [],
   "source": [
    "q6c2 <- right_join(q6,q6c, by='emptype2')\n"
   ]
  },
  {
   "cell_type": "markdown",
   "metadata": {},
   "source": [
    "We rename the columns appropriately and add a column for percentage, and then plot the graph"
   ]
  },
  {
   "cell_type": "code",
   "execution_count": 66,
   "metadata": {
    "collapsed": false,
    "scrolled": true
   },
   "outputs": [
    {
     "name": "stdout",
     "output_type": "stream",
     "text": [
      "\n",
      "Changing in q6c2                                      \n",
      "From: inc    emptype2    freq.x freq.y\n",
      "To:   Income ManualLabor Count  Total \n",
      "\n"
     ]
    }
   ],
   "source": [
    "q6c2 <- rename.vars(q6c2, c(\"inc\",\"emptype2\",\"freq.x\",\"freq.y\"), \n",
    "                          c(\"Income\",\"ManualLabor\",\"Count\",\"Total\"))"
   ]
  },
  {
   "cell_type": "code",
   "execution_count": 67,
   "metadata": {
    "collapsed": false
   },
   "outputs": [
    {
     "data": {
      "text/html": [
       "<table>\n",
       "<thead><tr><th scope=col>Income</th><th scope=col>ManualLabor</th><th scope=col>Count</th><th scope=col>Total</th><th scope=col>percent</th></tr></thead>\n",
       "<tbody>\n",
       "\t<tr><td><span style=white-space:pre-wrap>&lt;30K     </span></td><td>No                                                  </td><td> 72                                                 </td><td>580                                                 </td><td>12.41379                                            </td></tr>\n",
       "\t<tr><td>30-50K   </td><td>No       </td><td> 91      </td><td>580      </td><td>15.68966 </td></tr>\n",
       "\t<tr><td>50-75K   </td><td>No       </td><td>106      </td><td>580      </td><td>18.27586 </td></tr>\n",
       "\t<tr><td>Over 75K </td><td>No       </td><td>311      </td><td>580      </td><td>53.62069 </td></tr>\n",
       "\t<tr><td><span style=white-space:pre-wrap>&lt;30K     </span></td><td>Yes                                                 </td><td>139                                                 </td><td>406                                                 </td><td>34.23645                                            </td></tr>\n",
       "\t<tr><td>30-50K   </td><td>Yes      </td><td>102      </td><td>406      </td><td>25.12315 </td></tr>\n",
       "\t<tr><td>50-75K   </td><td>Yes      </td><td> 68      </td><td>406      </td><td>16.74877 </td></tr>\n",
       "\t<tr><td>Over 75K </td><td>Yes      </td><td> 97      </td><td>406      </td><td>23.89163 </td></tr>\n",
       "</tbody>\n",
       "</table>\n"
      ],
      "text/latex": [
       "\\begin{tabular}{r|lllll}\n",
       " Income & ManualLabor & Count & Total & percent\\\\\n",
       "\\hline\n",
       "\t <30K      & No        &  72       & 580       & 12.41379 \\\\\n",
       "\t 30-50K    & No        &  91       & 580       & 15.68966 \\\\\n",
       "\t 50-75K    & No        & 106       & 580       & 18.27586 \\\\\n",
       "\t Over 75K  & No        & 311       & 580       & 53.62069 \\\\\n",
       "\t <30K      & Yes       & 139       & 406       & 34.23645 \\\\\n",
       "\t 30-50K    & Yes       & 102       & 406       & 25.12315 \\\\\n",
       "\t 50-75K    & Yes       &  68       & 406       & 16.74877 \\\\\n",
       "\t Over 75K  & Yes       &  97       & 406       & 23.89163 \\\\\n",
       "\\end{tabular}\n"
      ],
      "text/markdown": [
       "\n",
       "Income | ManualLabor | Count | Total | percent | \n",
       "|---|---|---|---|---|---|---|---|\n",
       "| <30K      | No        |  72       | 580       | 12.41379  | \n",
       "| 30-50K    | No        |  91       | 580       | 15.68966  | \n",
       "| 50-75K    | No        | 106       | 580       | 18.27586  | \n",
       "| Over 75K  | No        | 311       | 580       | 53.62069  | \n",
       "| <30K      | Yes       | 139       | 406       | 34.23645  | \n",
       "| 30-50K    | Yes       | 102       | 406       | 25.12315  | \n",
       "| 50-75K    | Yes       |  68       | 406       | 16.74877  | \n",
       "| Over 75K  | Yes       |  97       | 406       | 23.89163  | \n",
       "\n",
       "\n"
      ],
      "text/plain": [
       "  Income    ManualLabor Count Total percent \n",
       "1 <30K      No           72   580   12.41379\n",
       "2 30-50K    No           91   580   15.68966\n",
       "3 50-75K    No          106   580   18.27586\n",
       "4 Over 75K  No          311   580   53.62069\n",
       "5 <30K      Yes         139   406   34.23645\n",
       "6 30-50K    Yes         102   406   25.12315\n",
       "7 50-75K    Yes          68   406   16.74877\n",
       "8 Over 75K  Yes          97   406   23.89163"
      ]
     },
     "metadata": {},
     "output_type": "display_data"
    }
   ],
   "source": [
    "q6c2 <- mutate(q6c2,percent=Count*100/Total)\n",
    "q6c2"
   ]
  },
  {
   "cell_type": "code",
   "execution_count": 68,
   "metadata": {
    "collapsed": false
   },
   "outputs": [
    {
     "data": {},
     "metadata": {},
     "output_type": "display_data"
    },
    {
     "data": {
      "image/png": "[encoded data removed]",
      "text/plain": [
       "plot without title"
      ]
     },
     "metadata": {},
     "output_type": "display_data"
    }
   ],
   "source": [
    "g6 <- ggplot(q6c2, aes((ManualLabor), percent, fill = Income),ylab=\"Percentage\",xlab=\"Does job entail physical labor?\") + \n",
    "  geom_bar(stat=\"identity\", position = \"dodge\") + \n",
    " geom_text(aes(label=round(percent)), vjust=-1,position=position_dodge(.9), size=3)+ \n",
    "scale_fill_brewer(palette=\"Set1\") + ggtitle(\"Income vs Physical Labor Jobs\") +\n",
    "  theme(plot.title = element_text(hjust = 0.5,face=\"bold\"))+xlab(\"Does job entail physical labor?\")+ylab(\"Percentage\")+guides(fill=guide_legend(title=\"Income\"))\n",
    "g6"
   ]
  },
  {
   "cell_type": "markdown",
   "metadata": {},
   "source": [
    "We infer the following from the above data:\n",
    "1. 59% of the respondents employed in Physical labor jobs have an annual income of less than 50000 USD, and only 24% have an income of 75000 and above.\n",
    "\n",
    "2. Out of the people having non-physical labor jobs, 54% respondents have an annual income of 75000 and above.\n",
    "\n",
    "These results confirm the hypothesis that physical labor jobs are more likely to be associated with a lesser annual income than a job which does not involve physical labor.\n"
   ]
  },
  {
   "cell_type": "code",
   "execution_count": null,
   "metadata": {
    "collapsed": true
   },
   "outputs": [],
   "source": []
  }
 ],
 "metadata": {
  "kernelspec": {
   "display_name": "R",
   "language": "R",
   "name": "ir"
  },
  "language_info": {
   "codemirror_mode": "r",
   "file_extension": ".r",
   "mimetype": "text/x-r-source",
   "name": "R",
   "pygments_lexer": "r",
   "version": "3.3.2"
  }
 },
 "nbformat": 4,
 "nbformat_minor": 2
}
