{
 "cells": [
  {
   "cell_type": "markdown",
   "metadata": {},
   "source": [
    "## Activity 1 - Transform XML to Data Frame to CSV\n",
    "\n",
    "In this notebook, we first parse an XML file to a Data Frame.\n",
    "We then save this data frame to a CSV file. Since the XML file has a structure which includes child nodes for many inner nodes, we use the <b>unlist</b> function, to store the inner children of the XML structure in the CSV files as well.\n",
    "\n",
    "References: https://www.datacamp.com/community/tutorials/r-data-import-tutorial#xml\n",
    "            https://www.tutorialspoint.com/r/r_xml_files.htm\n",
    "\n",
    "\n",
    "We start by loading the required libraries.\n"
   ]
  },
  {
   "cell_type": "code",
   "execution_count": 1,
   "metadata": {
    "collapsed": true
   },
   "outputs": [
    {
     "name": "stderr",
     "output_type": "stream",
     "text": [
      "\n",
      "Attaching package: 'dplyr'\n",
      "\n",
      "The following objects are masked from 'package:stats':\n",
      "\n",
      "    filter, lag\n",
      "\n",
      "The following objects are masked from 'package:base':\n",
      "\n",
      "    intersect, setdiff, setequal, union\n",
      "\n",
      "------------------------------------------------------------------------------\n",
      "You have loaded plyr after dplyr - this is likely to cause problems.\n",
      "If you need functions from both plyr and dplyr, please load plyr first, then dplyr:\n",
      "library(plyr); library(dplyr)\n",
      "------------------------------------------------------------------------------\n",
      "\n",
      "Attaching package: 'plyr'\n",
      "\n",
      "The following objects are masked from 'package:dplyr':\n",
      "\n",
      "    arrange, count, desc, failwith, id, mutate, rename, summarise,\n",
      "    summarize\n",
      "\n"
     ]
    }
   ],
   "source": [
    "library(dplyr)\n",
    "library(plyr)\n",
    "library(XML)"
   ]
  },
  {
   "cell_type": "markdown",
   "metadata": {
    "collapsed": true
   },
   "source": [
    "Load the XML file to result"
   ]
  },
  {
   "cell_type": "code",
   "execution_count": 3,
   "metadata": {
    "collapsed": true
   },
   "outputs": [],
   "source": [
    "result <- xmlParse(file = \"http://aiweb.cs.washington.edu/research/projects/xmltk/xmldata/data/courses/reed.xml\", useInternalNodes = TRUE)"
   ]
  },
  {
   "cell_type": "markdown",
   "metadata": {},
   "source": [
    "Convert the stored XML data to a data frame, and to a list"
   ]
  },
  {
   "cell_type": "code",
   "execution_count": 5,
   "metadata": {
    "collapsed": true
   },
   "outputs": [],
   "source": [
    "#Convert to DF\n",
    "df <- xmlToDataFrame(result)"
   ]
  },
  {
   "cell_type": "code",
   "execution_count": 6,
   "metadata": {
    "collapsed": false
   },
   "outputs": [],
   "source": [
    "xL <- xmlToList(result)"
   ]
  },
  {
   "cell_type": "code",
   "execution_count": 15,
   "metadata": {
    "collapsed": true
   },
   "outputs": [
    {
     "data": {
      "text/plain": [
       "$course\n",
       "$course$reg_num\n",
       "[1] \"10577\"\n",
       "\n",
       "$course$subj\n",
       "[1] \"ANTH\"\n",
       "\n",
       "$course$crse\n",
       "[1] \"211\"\n",
       "\n",
       "$course$sect\n",
       "[1] \"F01\"\n",
       "\n",
       "$course$title\n",
       "[1] \"Introduction to Anthropology\"\n",
       "\n",
       "$course$units\n",
       "[1] \"1.0\"\n",
       "\n",
       "$course$instructor\n",
       "[1] \"Brightman\"\n",
       "\n",
       "$course$days\n",
       "[1] \"M-W\"\n",
       "\n",
       "$course$time\n",
       "$course$time$start_time\n",
       "[1] \"03:10PM\"\n",
       "\n",
       "$course$time$end_time\n",
       "[1] \"04:30\"\n",
       "\n",
       "\n",
       "$course$place\n",
       "$course$place$building\n",
       "[1] \"ELIOT\"\n",
       "\n",
       "$course$place$room\n",
       "[1] \"414\"\n",
       "\n",
       "\n",
       "\n",
       "$course\n",
       "$course$reg_num\n",
       "[1] \"20573\"\n",
       "\n",
       "$course$subj\n",
       "[1] \"ANTH\"\n",
       "\n",
       "$course$crse\n",
       "[1] \"344\"\n",
       "\n",
       "$course$sect\n",
       "[1] \"S01\"\n",
       "\n",
       "$course$title\n",
       "[1] \"Sex and Gender\"\n",
       "\n",
       "$course$units\n",
       "[1] \"1.0\"\n",
       "\n",
       "$course$instructor\n",
       "[1] \"Makley\"\n",
       "\n",
       "$course$days\n",
       "[1] \"T-Th\"\n",
       "\n",
       "$course$time\n",
       "$course$time$start_time\n",
       "[1] \"10:30AM\"\n",
       "\n",
       "$course$time$end_time\n",
       "[1] \"11:50\"\n",
       "\n",
       "\n",
       "$course$place\n",
       "$course$place$building\n",
       "[1] \"VOLLUM\"\n",
       "\n",
       "$course$place$room\n",
       "[1] \"120\"\n",
       "\n",
       "\n",
       "\n",
       "$course\n",
       "$course$reg_num\n",
       "[1] \"10624\"\n",
       "\n",
       "$course$subj\n",
       "[1] \"BIOL\"\n",
       "\n",
       "$course$crse\n",
       "[1] \"431\"\n",
       "\n",
       "$course$sect\n",
       "[1] \"F01\"\n",
       "\n",
       "$course$title\n",
       "[1] \"Field Biology of Amphibians\"\n",
       "\n",
       "$course$units\n",
       "[1] \"0.5\"\n",
       "\n",
       "$course$instructor\n",
       "[1] \"Kaplan\"\n",
       "\n",
       "$course$days\n",
       "[1] \"T\"\n",
       "\n",
       "$course$time\n",
       "$course$time$start_time\n",
       "[1] \"06:10PM\"\n",
       "\n",
       "$course$time$end_time\n",
       "[1] \"08:00\"\n",
       "\n",
       "\n",
       "$course$place\n",
       "$course$place$building\n",
       "[1] \"PHYSIC\"\n",
       "\n",
       "$course$place$room\n",
       "[1] \"240A\"\n",
       "\n",
       "\n",
       "\n",
       "$course\n",
       "$course$reg_num\n",
       "[1] \"10626\"\n",
       "\n",
       "$course$subj\n",
       "[1] \"BIOL\"\n",
       "\n",
       "$course$crse\n",
       "[1] \"431\"\n",
       "\n",
       "$course$sect\n",
       "[1] \"F03\"\n",
       "\n",
       "$course$title\n",
       "[1] \"Bacterial Pathogenesis\"\n",
       "\n",
       "$course$units\n",
       "[1] \"0.5\"\n",
       "\n",
       "$course$instructor\n",
       "NULL\n",
       "\n",
       "$course$days\n",
       "NULL\n",
       "\n",
       "$course$time\n",
       "$course$time$start_time\n",
       "NULL\n",
       "\n",
       "$course$time$end_time\n",
       "NULL\n",
       "\n",
       "\n",
       "$course$place\n",
       "$course$place$building\n",
       "NULL\n",
       "\n",
       "$course$place$room\n",
       "[1] \"Mellies         RESCHEDULED TO OTHER SEMESTER\"\n",
       "\n",
       "\n",
       "\n",
       "$course\n",
       "$course$reg_num\n",
       "[1] \"20626\"\n",
       "\n",
       "$course$subj\n",
       "[1] \"BIOL\"\n",
       "\n",
       "$course$crse\n",
       "[1] \"431\"\n",
       "\n",
       "$course$sect\n",
       "[1] \"S04\"\n",
       "\n",
       "$course$title\n",
       "[1] \"Seminar in Biology\"\n",
       "\n",
       "$course$units\n",
       "[1] \"0.5\"\n",
       "\n",
       "$course$instructor\n",
       "[1] \"Yezerinac\"\n",
       "\n",
       "$course$days\n",
       "[1] \"Th\"\n",
       "\n",
       "$course$time\n",
       "$course$time$start_time\n",
       "[1] \"06:10PM\"\n",
       "\n",
       "$course$time$end_time\n",
       "[1] \"08:00\"\n",
       "\n",
       "\n",
       "$course$place\n",
       "$course$place$building\n",
       "[1] \"BIOL\"\n",
       "\n",
       "$course$place$room\n",
       "[1] \"200A\"\n",
       "\n",
       "\n",
       "\n",
       "$course\n",
       "$course$reg_num\n",
       "[1] \"10543\"\n",
       "\n",
       "$course$subj\n",
       "[1] \"CHEM\"\n",
       "\n",
       "$course$crse\n",
       "[1] \"101\"\n",
       "\n",
       "$course$sect\n",
       "[1] \"F\"\n",
       "\n",
       "$course$title\n",
       "[1] \"MolecularStructure and Properties\"\n",
       "\n",
       "$course$units\n",
       "[1] \"1.0\"\n",
       "\n",
       "$course$instructor\n",
       "[1] \"Geselbracht\"\n",
       "\n",
       "$course$days\n",
       "[1] \"M-W-F\"\n",
       "\n",
       "$course$time\n",
       "$course$time$start_time\n",
       "[1] \"11:00AM\"\n",
       "\n",
       "$course$time$end_time\n",
       "[1] \"11:50\"\n",
       "\n",
       "\n",
       "$course$place\n",
       "$course$place$building\n",
       "[1] \"VOLLUM\"\n",
       "\n",
       "$course$place$room\n",
       "[1] \"VLH\"\n",
       "\n",
       "\n"
      ]
     },
     "metadata": {},
     "output_type": "display_data"
    }
   ],
   "source": [
    "head(xL)"
   ]
  },
  {
   "cell_type": "code",
   "execution_count": 9,
   "metadata": {
    "collapsed": false
   },
   "outputs": [],
   "source": [
    "xml_list <- xmlToList(result)\n",
    "# xml_df_list <- data.frame(t(unlist(xml_list)))"
   ]
  },
  {
   "cell_type": "markdown",
   "metadata": {
    "collapsed": false
   },
   "source": [
    "Store the dataframe in the correct structure. \n",
    "References: http://rfunction.com/archives/2238\n"
   ]
  },
  {
   "cell_type": "code",
   "execution_count": 11,
   "metadata": {
    "collapsed": false
   },
   "outputs": [],
   "source": [
    "xml_df1 <- ldply(xml_list, function(x){ \n",
    "    data.frame(t(unlist(x)))\n",
    "    },.id=NULL)"
   ]
  },
  {
   "cell_type": "code",
   "execution_count": 13,
   "metadata": {
    "collapsed": true
   },
   "outputs": [
    {
     "data": {
      "text/html": [
       "<table>\n",
       "<thead><tr><th scope=col>reg_num</th><th scope=col>subj</th><th scope=col>crse</th><th scope=col>sect</th><th scope=col>title</th><th scope=col>units</th><th scope=col>instructor</th><th scope=col>days</th><th scope=col>time.start_time</th><th scope=col>time.end_time</th><th scope=col>place.building</th><th scope=col>place.room</th></tr></thead>\n",
       "<tbody>\n",
       "\t<tr><td>10577                                        </td><td>ANTH                                         </td><td>211                                          </td><td>F01                                          </td><td>Introduction to Anthropology                 </td><td>1.0                                          </td><td>Brightman                                    </td><td>M-W                                          </td><td>03:10PM                                      </td><td>04:30                                        </td><td>ELIOT                                        </td><td>414                                          </td></tr>\n",
       "\t<tr><td>20573                                        </td><td>ANTH                                         </td><td>344                                          </td><td>S01                                          </td><td>Sex and Gender                               </td><td>1.0                                          </td><td>Makley                                       </td><td>T-Th                                         </td><td>10:30AM                                      </td><td>11:50                                        </td><td>VOLLUM                                       </td><td>120                                          </td></tr>\n",
       "\t<tr><td>10624                                        </td><td>BIOL                                         </td><td>431                                          </td><td>F01                                          </td><td>Field Biology of Amphibians                  </td><td>0.5                                          </td><td>Kaplan                                       </td><td>T                                            </td><td>06:10PM                                      </td><td>08:00                                        </td><td>PHYSIC                                       </td><td>240A                                         </td></tr>\n",
       "\t<tr><td>10626                                        </td><td>BIOL                                         </td><td>431                                          </td><td>F03                                          </td><td>Bacterial Pathogenesis                       </td><td>0.5                                          </td><td>NA                                           </td><td>NA                                           </td><td>NA                                           </td><td>NA                                           </td><td>NA                                           </td><td>Mellies         RESCHEDULED TO OTHER SEMESTER</td></tr>\n",
       "\t<tr><td>20626                                        </td><td>BIOL                                         </td><td>431                                          </td><td>S04                                          </td><td>Seminar in Biology                           </td><td>0.5                                          </td><td>Yezerinac                                    </td><td>Th                                           </td><td>06:10PM                                      </td><td>08:00                                        </td><td>BIOL                                         </td><td>200A                                         </td></tr>\n",
       "\t<tr><td>10543                                        </td><td>CHEM                                         </td><td>101                                          </td><td>F                                            </td><td>MolecularStructure and Properties            </td><td>1.0                                          </td><td>Geselbracht                                  </td><td>M-W-F                                        </td><td>11:00AM                                      </td><td>11:50                                        </td><td>VOLLUM                                       </td><td>VLH                                          </td></tr>\n",
       "</tbody>\n",
       "</table>\n"
      ],
      "text/latex": [
       "\\begin{tabular}{r|llllllllllll}\n",
       " reg\\_num & subj & crse & sect & title & units & instructor & days & time.start\\_time & time.end\\_time & place.building & place.room\\\\\n",
       "\\hline\n",
       "\t 10577                                         & ANTH                                          & 211                                           & F01                                           & Introduction to Anthropology                  & 1.0                                           & Brightman                                     & M-W                                           & 03:10PM                                       & 04:30                                         & ELIOT                                         & 414                                          \\\\\n",
       "\t 20573                                         & ANTH                                          & 344                                           & S01                                           & Sex and Gender                                & 1.0                                           & Makley                                        & T-Th                                          & 10:30AM                                       & 11:50                                         & VOLLUM                                        & 120                                          \\\\\n",
       "\t 10624                                         & BIOL                                          & 431                                           & F01                                           & Field Biology of Amphibians                   & 0.5                                           & Kaplan                                        & T                                             & 06:10PM                                       & 08:00                                         & PHYSIC                                        & 240A                                         \\\\\n",
       "\t 10626                                         & BIOL                                          & 431                                           & F03                                           & Bacterial Pathogenesis                        & 0.5                                           & NA                                            & NA                                            & NA                                            & NA                                            & NA                                            & Mellies         RESCHEDULED TO OTHER SEMESTER\\\\\n",
       "\t 20626                                         & BIOL                                          & 431                                           & S04                                           & Seminar in Biology                            & 0.5                                           & Yezerinac                                     & Th                                            & 06:10PM                                       & 08:00                                         & BIOL                                          & 200A                                         \\\\\n",
       "\t 10543                                         & CHEM                                          & 101                                           & F                                             & MolecularStructure and Properties             & 1.0                                           & Geselbracht                                   & M-W-F                                         & 11:00AM                                       & 11:50                                         & VOLLUM                                        & VLH                                          \\\\\n",
       "\\end{tabular}\n"
      ],
      "text/markdown": [
       "\n",
       "reg_num | subj | crse | sect | title | units | instructor | days | time.start_time | time.end_time | place.building | place.room | \n",
       "|---|---|---|---|---|---|\n",
       "| 10577                                         | ANTH                                          | 211                                           | F01                                           | Introduction to Anthropology                  | 1.0                                           | Brightman                                     | M-W                                           | 03:10PM                                       | 04:30                                         | ELIOT                                         | 414                                           | \n",
       "| 20573                                         | ANTH                                          | 344                                           | S01                                           | Sex and Gender                                | 1.0                                           | Makley                                        | T-Th                                          | 10:30AM                                       | 11:50                                         | VOLLUM                                        | 120                                           | \n",
       "| 10624                                         | BIOL                                          | 431                                           | F01                                           | Field Biology of Amphibians                   | 0.5                                           | Kaplan                                        | T                                             | 06:10PM                                       | 08:00                                         | PHYSIC                                        | 240A                                          | \n",
       "| 10626                                         | BIOL                                          | 431                                           | F03                                           | Bacterial Pathogenesis                        | 0.5                                           | NA                                            | NA                                            | NA                                            | NA                                            | NA                                            | Mellies         RESCHEDULED TO OTHER SEMESTER | \n",
       "| 20626                                         | BIOL                                          | 431                                           | S04                                           | Seminar in Biology                            | 0.5                                           | Yezerinac                                     | Th                                            | 06:10PM                                       | 08:00                                         | BIOL                                          | 200A                                          | \n",
       "| 10543                                         | CHEM                                          | 101                                           | F                                             | MolecularStructure and Properties             | 1.0                                           | Geselbracht                                   | M-W-F                                         | 11:00AM                                       | 11:50                                         | VOLLUM                                        | VLH                                           | \n",
       "\n",
       "\n"
      ],
      "text/plain": [
       "  reg_num subj crse sect title                             units instructor \n",
       "1 10577   ANTH 211  F01  Introduction to Anthropology      1.0   Brightman  \n",
       "2 20573   ANTH 344  S01  Sex and Gender                    1.0   Makley     \n",
       "3 10624   BIOL 431  F01  Field Biology of Amphibians       0.5   Kaplan     \n",
       "4 10626   BIOL 431  F03  Bacterial Pathogenesis            0.5   NA         \n",
       "5 20626   BIOL 431  S04  Seminar in Biology                0.5   Yezerinac  \n",
       "6 10543   CHEM 101  F    MolecularStructure and Properties 1.0   Geselbracht\n",
       "  days  time.start_time time.end_time place.building\n",
       "1 M-W   03:10PM         04:30         ELIOT         \n",
       "2 T-Th  10:30AM         11:50         VOLLUM        \n",
       "3 T     06:10PM         08:00         PHYSIC        \n",
       "4 NA    NA              NA            NA            \n",
       "5 Th    06:10PM         08:00         BIOL          \n",
       "6 M-W-F 11:00AM         11:50         VOLLUM        \n",
       "  place.room                                   \n",
       "1 414                                          \n",
       "2 120                                          \n",
       "3 240A                                         \n",
       "4 Mellies         RESCHEDULED TO OTHER SEMESTER\n",
       "5 200A                                         \n",
       "6 VLH                                          "
      ]
     },
     "metadata": {},
     "output_type": "display_data"
    }
   ],
   "source": [
    "head(xml_df1)"
   ]
  },
  {
   "cell_type": "markdown",
   "metadata": {},
   "source": [
    "Write the CSV file with the data frame"
   ]
  },
  {
   "cell_type": "code",
   "execution_count": 12,
   "metadata": {
    "collapsed": true
   },
   "outputs": [],
   "source": [
    "write.csv(xml_df1, file = \"file.csv\")\n"
   ]
  },
  {
   "cell_type": "code",
   "execution_count": null,
   "metadata": {
    "collapsed": true
   },
   "outputs": [],
   "source": []
  }
 ],
 "metadata": {
  "kernelspec": {
   "display_name": "R",
   "language": "R",
   "name": "ir"
  },
  "language_info": {
   "codemirror_mode": "r",
   "file_extension": ".r",
   "mimetype": "text/x-r-source",
   "name": "R",
   "pygments_lexer": "r",
   "version": "3.3.2"
  }
 },
 "nbformat": 4,
 "nbformat_minor": 2
}
