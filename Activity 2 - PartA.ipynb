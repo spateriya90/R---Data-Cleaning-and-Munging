{
 "cells": [
  {
   "cell_type": "markdown",
   "metadata": {},
   "source": [
    "# Activity 2 \n",
    "## Extract and Repurpose Data - Part A\n",
    "\n",
    "This notebook takes the data from the SQLite Database for European Soccer, and creates two CSV files - players.csv and teams.csv, with the required data to answer the questions.\n",
    "\n",
    "We begin by loading the required libraries and establishing a connection the the SQLite database file (database.sqlite)"
   ]
  },
  {
   "cell_type": "code",
   "execution_count": 37,
   "metadata": {
    "collapsed": true
   },
   "outputs": [],
   "source": [
    "library(dplyr)\n",
    "library(RSQLite) \n",
    "library(plyr)\n",
    "library(sqldf)\n",
    "library(gdata)"
   ]
  },
  {
   "cell_type": "code",
   "execution_count": 38,
   "metadata": {
    "collapsed": true
   },
   "outputs": [],
   "source": [
    "db <- dbConnect(SQLite(), dbname='database.sqlite')"
   ]
  },
  {
   "cell_type": "code",
   "execution_count": 39,
   "metadata": {
    "collapsed": false
   },
   "outputs": [
    {
     "data": {
      "text/html": [
       "<ol class=list-inline>\n",
       "\t<li>'Country'</li>\n",
       "\t<li>'League'</li>\n",
       "\t<li>'Match'</li>\n",
       "\t<li>'Player'</li>\n",
       "\t<li>'Player_Attributes'</li>\n",
       "\t<li>'Team'</li>\n",
       "\t<li>'Team_Attributes'</li>\n",
       "\t<li>'sqlite_sequence'</li>\n",
       "</ol>\n"
      ],
      "text/latex": [
       "\\begin{enumerate*}\n",
       "\\item 'Country'\n",
       "\\item 'League'\n",
       "\\item 'Match'\n",
       "\\item 'Player'\n",
       "\\item 'Player\\_Attributes'\n",
       "\\item 'Team'\n",
       "\\item 'Team\\_Attributes'\n",
       "\\item 'sqlite\\_sequence'\n",
       "\\end{enumerate*}\n"
      ],
      "text/markdown": [
       "1. 'Country'\n",
       "2. 'League'\n",
       "3. 'Match'\n",
       "4. 'Player'\n",
       "5. 'Player_Attributes'\n",
       "6. 'Team'\n",
       "7. 'Team_Attributes'\n",
       "8. 'sqlite_sequence'\n",
       "\n",
       "\n"
      ],
      "text/plain": [
       "[1] \"Country\"           \"League\"            \"Match\"            \n",
       "[4] \"Player\"            \"Player_Attributes\" \"Team\"             \n",
       "[7] \"Team_Attributes\"   \"sqlite_sequence\"  "
      ]
     },
     "metadata": {},
     "output_type": "display_data"
    }
   ],
   "source": [
    "dbListTables(db)"
   ]
  },
  {
   "cell_type": "markdown",
   "metadata": {},
   "source": [
    "Extract data from individual tables in the database and loading it into R"
   ]
  },
  {
   "cell_type": "code",
   "execution_count": 40,
   "metadata": {
    "collapsed": true
   },
   "outputs": [],
   "source": [
    "country    <- tbl_df(dbGetQuery(db,\"select * from country\"))\n",
    "player     <- tbl_df(dbGetQuery(db,\"select * from player\"))\n",
    "team       <- tbl_df(dbGetQuery(db,\"select * from team\"))\n",
    "teamatt    <- tbl_df(dbGetQuery(db,\"select * from team_attributes\"))\n",
    "playeratt  <- tbl_df(dbGetQuery(db,\"select * from player_attributes\"))\n",
    "league     <- tbl_df(dbGetQuery(db,\"select * from league\"))\n",
    "match      <- tbl_df(dbGetQuery(db,\"select * from match\"))"
   ]
  },
  {
   "cell_type": "markdown",
   "metadata": {},
   "source": [
    "### Player Data Extraction and Store "
   ]
  },
  {
   "cell_type": "markdown",
   "metadata": {},
   "source": [
    "The following query is used to extract the player names, their total sum of matches played, and the number of distinct leagues the players have played in, for further manipulation."
   ]
  },
  {
   "cell_type": "code",
   "execution_count": 41,
   "metadata": {
    "collapsed": true
   },
   "outputs": [],
   "source": [
    "query <- 'select a.player_api_id,\n",
    "                 a.player_name,\n",
    "                 count(a.player_api_id),\n",
    "                 count(distinct league_id)\n",
    "            from player a \n",
    "            inner join match b\n",
    "        on a.player_api_id = b.home_player_1 \n",
    "        or a.player_api_id = b.home_player_2 \n",
    "        or a.player_api_id = b.home_player_3\n",
    "        or a.player_api_id = b.home_player_4 \n",
    "        or a.player_api_id = b.home_player_5 \n",
    "        or a.player_api_id = b.home_player_6 \n",
    "        or a.player_api_id = b.home_player_7 \n",
    "        or a.player_api_id = b.home_player_8 \n",
    "        or a.player_api_id = b.home_player_9\n",
    "        or a.player_api_id = b.home_player_10\n",
    "        or a.player_api_id = b.home_player_11\n",
    "        or a.player_api_id = b.away_player_1\n",
    "        or a.player_api_id = b.away_player_2\n",
    "        or a.player_api_id = b.away_player_3\n",
    "        or a.player_api_id = b.away_player_4\n",
    "        or a.player_api_id = b.away_player_5 \n",
    "        or a.player_api_id = b.away_player_6 \n",
    "        or a.player_api_id = b.away_player_7 \n",
    "        or a.player_api_id = b.away_player_8 \n",
    "        or a.player_api_id = b.away_player_9\n",
    "        or a.player_api_id = b.away_player_10\n",
    "        or a.player_api_id = b.away_player_11 \n",
    "    group by a.player_api_id'"
   ]
  },
  {
   "cell_type": "code",
   "execution_count": 42,
   "metadata": {
    "collapsed": false
   },
   "outputs": [],
   "source": [
    "players_data <- sqldf(query,stringsAsFactors = FALSE)\n"
   ]
  },
  {
   "cell_type": "code",
   "execution_count": 43,
   "metadata": {
    "collapsed": false,
    "scrolled": true
   },
   "outputs": [
    {
     "data": {
      "text/html": [
       "<ol class=list-inline>\n",
       "\t<li>'player_api_id'</li>\n",
       "\t<li>'player_name'</li>\n",
       "\t<li>'count(a.player_api_id)'</li>\n",
       "\t<li>'count(distinct league_id)'</li>\n",
       "</ol>\n"
      ],
      "text/latex": [
       "\\begin{enumerate*}\n",
       "\\item 'player\\_api\\_id'\n",
       "\\item 'player\\_name'\n",
       "\\item 'count(a.player\\_api\\_id)'\n",
       "\\item 'count(distinct league\\_id)'\n",
       "\\end{enumerate*}\n"
      ],
      "text/markdown": [
       "1. 'player_api_id'\n",
       "2. 'player_name'\n",
       "3. 'count(a.player_api_id)'\n",
       "4. 'count(distinct league_id)'\n",
       "\n",
       "\n"
      ],
      "text/plain": [
       "[1] \"player_api_id\"             \"player_name\"              \n",
       "[3] \"count(a.player_api_id)\"    \"count(distinct league_id)\""
      ]
     },
     "metadata": {},
     "output_type": "display_data"
    }
   ],
   "source": [
    "names(players_data)"
   ]
  },
  {
   "cell_type": "markdown",
   "metadata": {},
   "source": [
    "Rename the columns in players_data with appropriate names, create dataframe topleagues having players with the number of leagues they have played in, in descending order"
   ]
  },
  {
   "cell_type": "code",
   "execution_count": 44,
   "metadata": {
    "collapsed": false
   },
   "outputs": [
    {
     "name": "stdout",
     "output_type": "stream",
     "text": [
      "\n",
      "Changing in players_data                                                      \n",
      "From: player_api_id player_name count(a.player_api_id)\n",
      "To:   player_api_id player_name num_matches           \n",
      "                               \n",
      "From: count(distinct league_id)\n",
      "To:   num_leagues              \n",
      "\n"
     ]
    }
   ],
   "source": [
    "players_data <- rename.vars(players_data, c(\"player_api_id\",\"player_name\",\"count(a.player_api_id)\",\"count(distinct league_id)\"), \n",
    "                                          c(\"player_api_id\",\"player_name\",\"num_matches\",\"num_leagues\"))\n",
    "topleagues<- arrange(players_data, desc (num_leagues))"
   ]
  },
  {
   "cell_type": "markdown",
   "metadata": {},
   "source": [
    "Extract Player Name and Player IDs. Get Player attributes, and add a column for the sum of GoalKeeper attributes.\n",
    "\n",
    "We then keep only the max sum of goalkeeper attributes for each player, merge the data with player names, and \n",
    "arrange the data in descending order of sum of goalkeeper attributes."
   ]
  },
  {
   "cell_type": "code",
   "execution_count": 45,
   "metadata": {
    "collapsed": true
   },
   "outputs": [],
   "source": [
    "players1 <- player %>% select(unique(player_api_id),(player_name))\n",
    "playersatt1 <- playeratt %>% select(player_api_id,overall_rating, gk_diving, gk_handling, gk_kicking, gk_positioning, gk_reflexes)\n",
    "playersatt1 <- mutate(playersatt1, gk_total = gk_diving+gk_handling+gk_kicking+gk_positioning+gk_reflexes)\n"
   ]
  },
  {
   "cell_type": "code",
   "execution_count": 46,
   "metadata": {
    "collapsed": true
   },
   "outputs": [
    {
     "name": "stderr",
     "output_type": "stream",
     "text": [
      "Joining, by = \"player_api_id\"\n"
     ]
    },
    {
     "data": {
      "text/html": [
       "<table>\n",
       "<thead><tr><th scope=col>player_api_id</th><th scope=col>gk_total</th><th scope=col>player_name.x</th></tr></thead>\n",
       "<tbody>\n",
       "\t<tr><td> 30717           </td><td>449              </td><td>Gianluigi Buffon </td></tr>\n",
       "\t<tr><td> 39989           </td><td>447              </td><td>Gregory Coupet   </td></tr>\n",
       "\t<tr><td> 30859           </td><td>445              </td><td>Petr Cech        </td></tr>\n",
       "\t<tr><td> 30657           </td><td>442              </td><td>Iker Casillas    </td></tr>\n",
       "\t<tr><td> 27299           </td><td>440              </td><td>Manuel Neuer     </td></tr>\n",
       "\t<tr><td> 30989           </td><td>438              </td><td>Julio Cesar      </td></tr>\n",
       "\t<tr><td> 24503           </td><td>437              </td><td>Sebastian Frey   </td></tr>\n",
       "\t<tr><td> 30726           </td><td>436              </td><td>Edwin van der Sar</td></tr>\n",
       "\t<tr><td>182917           </td><td>429              </td><td>David De Gea     </td></tr>\n",
       "\t<tr><td> 30660           </td><td>428              </td><td>Pepe Reina       </td></tr>\n",
       "</tbody>\n",
       "</table>\n"
      ],
      "text/latex": [
       "\\begin{tabular}{r|lll}\n",
       " player\\_api\\_id & gk\\_total & player\\_name.x\\\\\n",
       "\\hline\n",
       "\t  30717            & 449               & Gianluigi Buffon \\\\\n",
       "\t  39989            & 447               & Gregory Coupet   \\\\\n",
       "\t  30859            & 445               & Petr Cech        \\\\\n",
       "\t  30657            & 442               & Iker Casillas    \\\\\n",
       "\t  27299            & 440               & Manuel Neuer     \\\\\n",
       "\t  30989            & 438               & Julio Cesar      \\\\\n",
       "\t  24503            & 437               & Sebastian Frey   \\\\\n",
       "\t  30726            & 436               & Edwin van der Sar\\\\\n",
       "\t 182917            & 429               & David De Gea     \\\\\n",
       "\t  30660            & 428               & Pepe Reina       \\\\\n",
       "\\end{tabular}\n"
      ],
      "text/markdown": [
       "\n",
       "player_api_id | gk_total | player_name.x | \n",
       "|---|---|---|---|---|---|---|---|---|---|\n",
       "|  30717            | 449               | Gianluigi Buffon  | \n",
       "|  39989            | 447               | Gregory Coupet    | \n",
       "|  30859            | 445               | Petr Cech         | \n",
       "|  30657            | 442               | Iker Casillas     | \n",
       "|  27299            | 440               | Manuel Neuer      | \n",
       "|  30989            | 438               | Julio Cesar       | \n",
       "|  24503            | 437               | Sebastian Frey    | \n",
       "|  30726            | 436               | Edwin van der Sar | \n",
       "| 182917            | 429               | David De Gea      | \n",
       "|  30660            | 428               | Pepe Reina        | \n",
       "\n",
       "\n"
      ],
      "text/plain": [
       "   player_api_id gk_total player_name.x    \n",
       "1   30717        449      Gianluigi Buffon \n",
       "2   39989        447      Gregory Coupet   \n",
       "3   30859        445      Petr Cech        \n",
       "4   30657        442      Iker Casillas    \n",
       "5   27299        440      Manuel Neuer     \n",
       "6   30989        438      Julio Cesar      \n",
       "7   24503        437      Sebastian Frey   \n",
       "8   30726        436      Edwin van der Sar\n",
       "9  182917        429      David De Gea     \n",
       "10  30660        428      Pepe Reina       "
      ]
     },
     "metadata": {},
     "output_type": "display_data"
    }
   ],
   "source": [
    "q2 <- playersatt1 %>% \n",
    "# select(overall_rating,player_api_id) %>%\n",
    "    group_by(player_api_id)%>%\n",
    "#     distinct(player_api_id) %>%    \n",
    "    top_n(n = 1, wt=gk_total) %>%\n",
    "    distinct(gk_total) %>%\n",
    "    as.data.frame()\n",
    "q2 <- inner_join(q2,players1)\n",
    "q2 = merge(player, q2, by=\"player_api_id\")\n",
    "q2 <- arrange(q2,desc(gk_total))\n",
    "topgk <- select(q2,player_api_id,gk_total,player_name.x)\n",
    "head(topgk,n=10)"
   ]
  },
  {
   "cell_type": "markdown",
   "metadata": {
    "collapsed": true
   },
   "source": [
    "Arranging player data according to max overall rating, of all time. We then merge the data with the max GK attributes, Number of Matches played by each player, and number of leagues each player has played in"
   ]
  },
  {
   "cell_type": "code",
   "execution_count": 47,
   "metadata": {
    "collapsed": true
   },
   "outputs": [
    {
     "data": {
      "text/html": [
       "<table>\n",
       "<thead><tr><th scope=col>player_api_id</th><th scope=col>overall_rating</th><th scope=col>gk_diving</th><th scope=col>gk_handling</th><th scope=col>gk_kicking</th><th scope=col>gk_positioning</th><th scope=col>gk_reflexes</th><th scope=col>gk_total</th></tr></thead>\n",
       "<tbody>\n",
       "\t<tr><td>505942</td><td>67    </td><td> 6    </td><td>11    </td><td>10    </td><td>8     </td><td> 8    </td><td>43    </td></tr>\n",
       "\t<tr><td>505942</td><td>67    </td><td> 6    </td><td>11    </td><td>10    </td><td>8     </td><td> 8    </td><td>43    </td></tr>\n",
       "\t<tr><td>155782</td><td>74    </td><td>14    </td><td> 7    </td><td> 9    </td><td>9     </td><td>12    </td><td>51    </td></tr>\n",
       "\t<tr><td>155782</td><td>74    </td><td>14    </td><td> 7    </td><td> 9    </td><td>9     </td><td>12    </td><td>51    </td></tr>\n",
       "\t<tr><td>155782</td><td>74    </td><td>14    </td><td> 7    </td><td> 9    </td><td>9     </td><td>12    </td><td>51    </td></tr>\n",
       "\t<tr><td>162549</td><td>71    </td><td>15    </td><td>10    </td><td>11    </td><td>8     </td><td>12    </td><td>56    </td></tr>\n",
       "</tbody>\n",
       "</table>\n"
      ],
      "text/latex": [
       "\\begin{tabular}{r|llllllll}\n",
       " player\\_api\\_id & overall\\_rating & gk\\_diving & gk\\_handling & gk\\_kicking & gk\\_positioning & gk\\_reflexes & gk\\_total\\\\\n",
       "\\hline\n",
       "\t 505942 & 67     &  6     & 11     & 10     & 8      &  8     & 43    \\\\\n",
       "\t 505942 & 67     &  6     & 11     & 10     & 8      &  8     & 43    \\\\\n",
       "\t 155782 & 74     & 14     &  7     &  9     & 9      & 12     & 51    \\\\\n",
       "\t 155782 & 74     & 14     &  7     &  9     & 9      & 12     & 51    \\\\\n",
       "\t 155782 & 74     & 14     &  7     &  9     & 9      & 12     & 51    \\\\\n",
       "\t 162549 & 71     & 15     & 10     & 11     & 8      & 12     & 56    \\\\\n",
       "\\end{tabular}\n"
      ],
      "text/markdown": [
       "\n",
       "player_api_id | overall_rating | gk_diving | gk_handling | gk_kicking | gk_positioning | gk_reflexes | gk_total | \n",
       "|---|---|---|---|---|---|\n",
       "| 505942 | 67     |  6     | 11     | 10     | 8      |  8     | 43     | \n",
       "| 505942 | 67     |  6     | 11     | 10     | 8      |  8     | 43     | \n",
       "| 155782 | 74     | 14     |  7     |  9     | 9      | 12     | 51     | \n",
       "| 155782 | 74     | 14     |  7     |  9     | 9      | 12     | 51     | \n",
       "| 155782 | 74     | 14     |  7     |  9     | 9      | 12     | 51     | \n",
       "| 162549 | 71     | 15     | 10     | 11     | 8      | 12     | 56     | \n",
       "\n",
       "\n"
      ],
      "text/plain": [
       "  player_api_id overall_rating gk_diving gk_handling gk_kicking gk_positioning\n",
       "1 505942        67              6        11          10         8             \n",
       "2 505942        67              6        11          10         8             \n",
       "3 155782        74             14         7           9         9             \n",
       "4 155782        74             14         7           9         9             \n",
       "5 155782        74             14         7           9         9             \n",
       "6 162549        71             15        10          11         8             \n",
       "  gk_reflexes gk_total\n",
       "1  8          43      \n",
       "2  8          43      \n",
       "3 12          51      \n",
       "4 12          51      \n",
       "5 12          51      \n",
       "6 12          56      "
      ]
     },
     "metadata": {},
     "output_type": "display_data"
    }
   ],
   "source": [
    "toprated <- playersatt1 %>% \n",
    "# select(overall_rating,player_api_id) %>%\n",
    "    group_by(player_api_id) %>%\n",
    "#     distinct(player_api_id) %>%\n",
    "#     summarise(overall_rating = max(overall_rating)) %>%\n",
    "#     arrange(player_api_id,desc(overall_rating)) %>%\n",
    "    top_n(n = 1, wt=overall_rating) %>%\n",
    "#     top_n(n = 1, wt=player_api_id) %>%\n",
    "#     distinct(overall_rating) %>%\n",
    "    as.data.frame()\n",
    "head(toprated)"
   ]
  },
  {
   "cell_type": "code",
   "execution_count": 48,
   "metadata": {
    "collapsed": true
   },
   "outputs": [],
   "source": [
    "toprated<- toprated %>% distinct(player_api_id, overall_rating, .keep_all = TRUE)\n",
    "toprated<- arrange(toprated,desc(overall_rating))"
   ]
  },
  {
   "cell_type": "code",
   "execution_count": 49,
   "metadata": {
    "collapsed": true
   },
   "outputs": [],
   "source": [
    "playerMerge = merge(player, toprated, by=\"player_api_id\")\n",
    "playerMerge <- arrange(playerMerge,desc(overall_rating))\n",
    "play_rating <- select(playerMerge,player_api_id,player_name,overall_rating)"
   ]
  },
  {
   "cell_type": "code",
   "execution_count": 50,
   "metadata": {
    "collapsed": false
   },
   "outputs": [],
   "source": [
    "playersdata = merge(play_rating, topgk, by=\"player_api_id\")\n",
    "playersdata = select(playersdata,player_api_id,player_name,overall_rating,gk_total)\n",
    "playersdata = merge(playersdata,topleagues, by=\"player_api_id\")\n",
    "playersdata = select(playersdata,player_api_id,player_name.x,overall_rating,gk_total,num_matches,num_leagues)"
   ]
  },
  {
   "cell_type": "code",
   "execution_count": 51,
   "metadata": {
    "collapsed": false
   },
   "outputs": [
    {
     "data": {
      "text/html": [
       "<ol class=list-inline>\n",
       "\t<li>'player_api_id'</li>\n",
       "\t<li>'player_name.x'</li>\n",
       "\t<li>'overall_rating'</li>\n",
       "\t<li>'gk_total'</li>\n",
       "\t<li>'num_matches'</li>\n",
       "\t<li>'num_leagues'</li>\n",
       "</ol>\n"
      ],
      "text/latex": [
       "\\begin{enumerate*}\n",
       "\\item 'player\\_api\\_id'\n",
       "\\item 'player\\_name.x'\n",
       "\\item 'overall\\_rating'\n",
       "\\item 'gk\\_total'\n",
       "\\item 'num\\_matches'\n",
       "\\item 'num\\_leagues'\n",
       "\\end{enumerate*}\n"
      ],
      "text/markdown": [
       "1. 'player_api_id'\n",
       "2. 'player_name.x'\n",
       "3. 'overall_rating'\n",
       "4. 'gk_total'\n",
       "5. 'num_matches'\n",
       "6. 'num_leagues'\n",
       "\n",
       "\n"
      ],
      "text/plain": [
       "[1] \"player_api_id\"  \"player_name.x\"  \"overall_rating\" \"gk_total\"      \n",
       "[5] \"num_matches\"    \"num_leagues\"   "
      ]
     },
     "metadata": {},
     "output_type": "display_data"
    }
   ],
   "source": [
    "names(playersdata)"
   ]
  },
  {
   "cell_type": "markdown",
   "metadata": {},
   "source": [
    "Writing the data to CSV file"
   ]
  },
  {
   "cell_type": "code",
   "execution_count": 52,
   "metadata": {
    "collapsed": true
   },
   "outputs": [
    {
     "name": "stdout",
     "output_type": "stream",
     "text": [
      "\n",
      "Changing in playersdata                                 \n",
      "From: player_api_id player_name.x\n",
      "To:   player_api_id player_name  \n",
      "\n"
     ]
    }
   ],
   "source": [
    "playersdata <- rename.vars(playersdata, c(\"player_api_id\",\"player_name.x\"), c(\"player_api_id\",\"player_name\"))\n",
    "\n",
    "write.csv(playersdata,file=\"players.csv\",row.names=FALSE)"
   ]
  },
  {
   "cell_type": "markdown",
   "metadata": {
    "collapsed": true
   },
   "source": [
    "### Extract Team Data and Store "
   ]
  },
  {
   "cell_type": "markdown",
   "metadata": {
    "collapsed": true
   },
   "source": [
    "Collect the relevant team attributes from the table and store them to teamStat. \n",
    "Set the NA attributes to 0.\n",
    "Then create 3 separate dataframes to store the max BuildUp attributes, max Chance Creation attributes, and max Defence attributes for each team.\n"
   ]
  },
  {
   "cell_type": "code",
   "execution_count": 53,
   "metadata": {
    "collapsed": true
   },
   "outputs": [],
   "source": [
    "teamStat <- teamatt %>% select(team_api_id,buildUpPlaySpeed,\n",
    "                               buildUpPlaySpeedClass,\n",
    "                               buildUpPlayDribbling,\n",
    "                               buildUpPlayDribblingClass,\n",
    "                               buildUpPlayPassing,\n",
    "                               buildUpPlayPassingClass,\n",
    "                               buildUpPlayPositioningClass,\n",
    "                               chanceCreationPassing,\n",
    "                               chanceCreationPassingClass,\n",
    "                               chanceCreationCrossing,\n",
    "                               chanceCreationCrossingClass,\n",
    "                               chanceCreationShooting,\n",
    "                               chanceCreationShootingClass,\n",
    "                               chanceCreationPositioningClass,\n",
    "                               defencePressure,\n",
    "                               defencePressureClass,\n",
    "                               defenceAggression,\n",
    "                               defenceAggressionClass,\n",
    "                               defenceTeamWidth,\n",
    "                               defenceTeamWidthClass,\n",
    "                               defenceDefenderLineClass)"
   ]
  },
  {
   "cell_type": "code",
   "execution_count": 54,
   "metadata": {
    "collapsed": true
   },
   "outputs": [],
   "source": [
    "teamStat[is.na(teamStat)] <- 0\n",
    "# Set NA values to 0, add 3 column with individual sums of BuildUp, Chance Creation and Defence Attributes\n",
    "teamStat <- mutate(teamStat,bup=buildUpPlaySpeed+buildUpPlayDribbling+buildUpPlayPassing,\n",
    "                   chtot=chanceCreationPassing+chanceCreationCrossing+chanceCreationShooting,\n",
    "                   deftot=defencePressure+defenceAggression+defenceTeamWidth)"
   ]
  },
  {
   "cell_type": "markdown",
   "metadata": {},
   "source": [
    "Create dataframe storing the max BuildUp Attributes for each team, and removing duplicate entries."
   ]
  },
  {
   "cell_type": "code",
   "execution_count": 55,
   "metadata": {
    "collapsed": true
   },
   "outputs": [
    {
     "data": {
      "text/html": [
       "<table>\n",
       "<thead><tr><th scope=col>team_api_id</th><th scope=col>buildUpPlaySpeed</th><th scope=col>buildUpPlaySpeedClass</th><th scope=col>buildUpPlayDribbling</th><th scope=col>buildUpPlayDribblingClass</th><th scope=col>buildUpPlayPassing</th><th scope=col>buildUpPlayPassingClass</th><th scope=col>buildUpPlayPositioningClass</th><th scope=col>chanceCreationPassing</th><th scope=col>chanceCreationPassingClass</th><th scope=col>...</th><th scope=col>defencePressure</th><th scope=col>defencePressureClass</th><th scope=col>defenceAggression</th><th scope=col>defenceAggressionClass</th><th scope=col>defenceTeamWidth</th><th scope=col>defenceTeamWidthClass</th><th scope=col>defenceDefenderLineClass</th><th scope=col>bup</th><th scope=col>chtot</th><th scope=col>deftot</th></tr></thead>\n",
       "<tbody>\n",
       "\t<tr><td>9930     </td><td>52       </td><td>Balanced </td><td>48       </td><td>Normal   </td><td>56       </td><td>Mixed    </td><td>Organised</td><td>54       </td><td>Normal   </td><td>...      </td><td>47       </td><td>Medium   </td><td>44       </td><td>Press    </td><td>54       </td><td>Normal   </td><td>Cover    </td><td>156      </td><td>181      </td><td>145      </td></tr>\n",
       "\t<tr><td>8485     </td><td>58       </td><td>Balanced </td><td>64       </td><td>Normal   </td><td>62       </td><td>Mixed    </td><td>Organised</td><td>56       </td><td>Normal   </td><td>...      </td><td>41       </td><td>Medium   </td><td>42       </td><td>Press    </td><td>60       </td><td>Normal   </td><td>Cover    </td><td>184      </td><td>181      </td><td>143      </td></tr>\n",
       "\t<tr><td>8576     </td><td>59       </td><td>Balanced </td><td>57       </td><td>Normal   </td><td>52       </td><td>Mixed    </td><td>Organised</td><td>48       </td><td>Normal   </td><td>...      </td><td>38       </td><td>Medium   </td><td>47       </td><td>Press    </td><td>53       </td><td>Normal   </td><td>Cover    </td><td>168      </td><td>138      </td><td>138      </td></tr>\n",
       "\t<tr><td>8576     </td><td>59       </td><td>Balanced </td><td>57       </td><td>Normal   </td><td>52       </td><td>Mixed    </td><td>Organised</td><td>48       </td><td>Normal   </td><td>...      </td><td>38       </td><td>Medium   </td><td>47       </td><td>Press    </td><td>53       </td><td>Normal   </td><td>Cover    </td><td>168      </td><td>138      </td><td>138      </td></tr>\n",
       "\t<tr><td>8564     </td><td>48       </td><td>Balanced </td><td>70       </td><td>Lots     </td><td>52       </td><td>Mixed    </td><td>Organised</td><td>66       </td><td>Normal   </td><td>...      </td><td>58       </td><td>Medium   </td><td>57       </td><td>Press    </td><td>49       </td><td>Normal   </td><td>Cover    </td><td>170      </td><td>177      </td><td>164      </td></tr>\n",
       "\t<tr><td>8564     </td><td>48       </td><td>Balanced </td><td>70       </td><td>Lots     </td><td>52       </td><td>Mixed    </td><td>Organised</td><td>66       </td><td>Normal   </td><td>...      </td><td>58       </td><td>Medium   </td><td>57       </td><td>Press    </td><td>49       </td><td>Normal   </td><td>Cover    </td><td>170      </td><td>171      </td><td>164      </td></tr>\n",
       "</tbody>\n",
       "</table>\n"
      ],
      "text/latex": [
       "\\begin{tabular}{r|lllllllllllllllllllllllll}\n",
       " team\\_api\\_id & buildUpPlaySpeed & buildUpPlaySpeedClass & buildUpPlayDribbling & buildUpPlayDribblingClass & buildUpPlayPassing & buildUpPlayPassingClass & buildUpPlayPositioningClass & chanceCreationPassing & chanceCreationPassingClass & ... & defencePressure & defencePressureClass & defenceAggression & defenceAggressionClass & defenceTeamWidth & defenceTeamWidthClass & defenceDefenderLineClass & bup & chtot & deftot\\\\\n",
       "\\hline\n",
       "\t 9930      & 52        & Balanced  & 48        & Normal    & 56        & Mixed     & Organised & 54        & Normal    & ...       & 47        & Medium    & 44        & Press     & 54        & Normal    & Cover     & 156       & 181       & 145      \\\\\n",
       "\t 8485      & 58        & Balanced  & 64        & Normal    & 62        & Mixed     & Organised & 56        & Normal    & ...       & 41        & Medium    & 42        & Press     & 60        & Normal    & Cover     & 184       & 181       & 143      \\\\\n",
       "\t 8576      & 59        & Balanced  & 57        & Normal    & 52        & Mixed     & Organised & 48        & Normal    & ...       & 38        & Medium    & 47        & Press     & 53        & Normal    & Cover     & 168       & 138       & 138      \\\\\n",
       "\t 8576      & 59        & Balanced  & 57        & Normal    & 52        & Mixed     & Organised & 48        & Normal    & ...       & 38        & Medium    & 47        & Press     & 53        & Normal    & Cover     & 168       & 138       & 138      \\\\\n",
       "\t 8564      & 48        & Balanced  & 70        & Lots      & 52        & Mixed     & Organised & 66        & Normal    & ...       & 58        & Medium    & 57        & Press     & 49        & Normal    & Cover     & 170       & 177       & 164      \\\\\n",
       "\t 8564      & 48        & Balanced  & 70        & Lots      & 52        & Mixed     & Organised & 66        & Normal    & ...       & 58        & Medium    & 57        & Press     & 49        & Normal    & Cover     & 170       & 171       & 164      \\\\\n",
       "\\end{tabular}\n"
      ],
      "text/markdown": [
       "\n",
       "team_api_id | buildUpPlaySpeed | buildUpPlaySpeedClass | buildUpPlayDribbling | buildUpPlayDribblingClass | buildUpPlayPassing | buildUpPlayPassingClass | buildUpPlayPositioningClass | chanceCreationPassing | chanceCreationPassingClass | ... | defencePressure | defencePressureClass | defenceAggression | defenceAggressionClass | defenceTeamWidth | defenceTeamWidthClass | defenceDefenderLineClass | bup | chtot | deftot | \n",
       "|---|---|---|---|---|---|\n",
       "| 9930      | 52        | Balanced  | 48        | Normal    | 56        | Mixed     | Organised | 54        | Normal    | ...       | 47        | Medium    | 44        | Press     | 54        | Normal    | Cover     | 156       | 181       | 145       | \n",
       "| 8485      | 58        | Balanced  | 64        | Normal    | 62        | Mixed     | Organised | 56        | Normal    | ...       | 41        | Medium    | 42        | Press     | 60        | Normal    | Cover     | 184       | 181       | 143       | \n",
       "| 8576      | 59        | Balanced  | 57        | Normal    | 52        | Mixed     | Organised | 48        | Normal    | ...       | 38        | Medium    | 47        | Press     | 53        | Normal    | Cover     | 168       | 138       | 138       | \n",
       "| 8576      | 59        | Balanced  | 57        | Normal    | 52        | Mixed     | Organised | 48        | Normal    | ...       | 38        | Medium    | 47        | Press     | 53        | Normal    | Cover     | 168       | 138       | 138       | \n",
       "| 8564      | 48        | Balanced  | 70        | Lots      | 52        | Mixed     | Organised | 66        | Normal    | ...       | 58        | Medium    | 57        | Press     | 49        | Normal    | Cover     | 170       | 177       | 164       | \n",
       "| 8564      | 48        | Balanced  | 70        | Lots      | 52        | Mixed     | Organised | 66        | Normal    | ...       | 58        | Medium    | 57        | Press     | 49        | Normal    | Cover     | 170       | 171       | 164       | \n",
       "\n",
       "\n"
      ],
      "text/plain": [
       "  team_api_id buildUpPlaySpeed buildUpPlaySpeedClass buildUpPlayDribbling\n",
       "1 9930        52               Balanced              48                  \n",
       "2 8485        58               Balanced              64                  \n",
       "3 8576        59               Balanced              57                  \n",
       "4 8576        59               Balanced              57                  \n",
       "5 8564        48               Balanced              70                  \n",
       "6 8564        48               Balanced              70                  \n",
       "  buildUpPlayDribblingClass buildUpPlayPassing buildUpPlayPassingClass\n",
       "1 Normal                    56                 Mixed                  \n",
       "2 Normal                    62                 Mixed                  \n",
       "3 Normal                    52                 Mixed                  \n",
       "4 Normal                    52                 Mixed                  \n",
       "5 Lots                      52                 Mixed                  \n",
       "6 Lots                      52                 Mixed                  \n",
       "  buildUpPlayPositioningClass chanceCreationPassing chanceCreationPassingClass\n",
       "1 Organised                   54                    Normal                    \n",
       "2 Organised                   56                    Normal                    \n",
       "3 Organised                   48                    Normal                    \n",
       "4 Organised                   48                    Normal                    \n",
       "5 Organised                   66                    Normal                    \n",
       "6 Organised                   66                    Normal                    \n",
       "  ... defencePressure defencePressureClass defenceAggression\n",
       "1 ... 47              Medium               44               \n",
       "2 ... 41              Medium               42               \n",
       "3 ... 38              Medium               47               \n",
       "4 ... 38              Medium               47               \n",
       "5 ... 58              Medium               57               \n",
       "6 ... 58              Medium               57               \n",
       "  defenceAggressionClass defenceTeamWidth defenceTeamWidthClass\n",
       "1 Press                  54               Normal               \n",
       "2 Press                  60               Normal               \n",
       "3 Press                  53               Normal               \n",
       "4 Press                  53               Normal               \n",
       "5 Press                  49               Normal               \n",
       "6 Press                  49               Normal               \n",
       "  defenceDefenderLineClass bup chtot deftot\n",
       "1 Cover                    156 181   145   \n",
       "2 Cover                    184 181   143   \n",
       "3 Cover                    168 138   138   \n",
       "4 Cover                    168 138   138   \n",
       "5 Cover                    170 177   164   \n",
       "6 Cover                    170 171   164   "
      ]
     },
     "metadata": {},
     "output_type": "display_data"
    }
   ],
   "source": [
    "teamStat1 <- teamStat %>% \n",
    "# select(overall_rating,player_api_id) %>%\n",
    "    group_by(team_api_id) %>%\n",
    "#     distinct(player_api_id) %>%\n",
    "#     summarise(overall_rating = max(overall_rating)) %>%\n",
    "#     arrange(player_api_id,desc(overall_rating)) %>%\n",
    "    top_n(n = 1, wt=bup) %>%\n",
    "#     top_n(n = 1, wt=player_api_id) %>%\n",
    "\n",
    "#     distinct(overall_rating) %>%\n",
    "    as.data.frame()\n",
    "head(teamStat1)"
   ]
  },
  {
   "cell_type": "code",
   "execution_count": 56,
   "metadata": {
    "collapsed": true
   },
   "outputs": [
    {
     "data": {
      "text/html": [
       "<table>\n",
       "<thead><tr><th scope=col>team_api_id</th><th scope=col>bup</th></tr></thead>\n",
       "<tbody>\n",
       "\t<tr><td>  9804</td><td>209   </td></tr>\n",
       "\t<tr><td>  8600</td><td>205   </td></tr>\n",
       "\t<tr><td>  8194</td><td>198   </td></tr>\n",
       "\t<tr><td>  8033</td><td>193   </td></tr>\n",
       "\t<tr><td>  8245</td><td>192   </td></tr>\n",
       "\t<tr><td>208931</td><td>190   </td></tr>\n",
       "</tbody>\n",
       "</table>\n"
      ],
      "text/latex": [
       "\\begin{tabular}{r|ll}\n",
       " team\\_api\\_id & bup\\\\\n",
       "\\hline\n",
       "\t   9804 & 209   \\\\\n",
       "\t   8600 & 205   \\\\\n",
       "\t   8194 & 198   \\\\\n",
       "\t   8033 & 193   \\\\\n",
       "\t   8245 & 192   \\\\\n",
       "\t 208931 & 190   \\\\\n",
       "\\end{tabular}\n"
      ],
      "text/markdown": [
       "\n",
       "team_api_id | bup | \n",
       "|---|---|---|---|---|---|\n",
       "|   9804 | 209    | \n",
       "|   8600 | 205    | \n",
       "|   8194 | 198    | \n",
       "|   8033 | 193    | \n",
       "|   8245 | 192    | \n",
       "| 208931 | 190    | \n",
       "\n",
       "\n"
      ],
      "text/plain": [
       "  team_api_id bup\n",
       "1   9804      209\n",
       "2   8600      205\n",
       "3   8194      198\n",
       "4   8033      193\n",
       "5   8245      192\n",
       "6 208931      190"
      ]
     },
     "metadata": {},
     "output_type": "display_data"
    }
   ],
   "source": [
    "teamStat1<- teamStat1 %>% distinct(team_api_id, bup, .keep_all = TRUE)\n",
    "teamStat1 <- select(teamStat1,team_api_id,bup)\n",
    "teamStat1<- arrange(teamStat1,desc(bup))\n",
    "head(teamStat1)"
   ]
  },
  {
   "cell_type": "markdown",
   "metadata": {},
   "source": [
    "Create dataframe storing the max Chance Creation Attributes for each team, and removing duplicate entries."
   ]
  },
  {
   "cell_type": "code",
   "execution_count": 57,
   "metadata": {
    "collapsed": true
   },
   "outputs": [
    {
     "data": {
      "text/html": [
       "<table>\n",
       "<thead><tr><th scope=col>team_api_id</th><th scope=col>buildUpPlaySpeed</th><th scope=col>buildUpPlaySpeedClass</th><th scope=col>buildUpPlayDribbling</th><th scope=col>buildUpPlayDribblingClass</th><th scope=col>buildUpPlayPassing</th><th scope=col>buildUpPlayPassingClass</th><th scope=col>buildUpPlayPositioningClass</th><th scope=col>chanceCreationPassing</th><th scope=col>chanceCreationPassingClass</th><th scope=col>...</th><th scope=col>defencePressure</th><th scope=col>defencePressureClass</th><th scope=col>defenceAggression</th><th scope=col>defenceAggressionClass</th><th scope=col>defenceTeamWidth</th><th scope=col>defenceTeamWidthClass</th><th scope=col>defenceDefenderLineClass</th><th scope=col>bup</th><th scope=col>chtot</th><th scope=col>deftot</th></tr></thead>\n",
       "<tbody>\n",
       "\t<tr><td> 9930    </td><td>52       </td><td>Balanced </td><td>48       </td><td>Normal   </td><td>56       </td><td>Mixed    </td><td>Organised</td><td>54       </td><td>Normal   </td><td>...      </td><td>47       </td><td>Medium   </td><td>44       </td><td>Press    </td><td>54       </td><td>Normal   </td><td>Cover    </td><td>156      </td><td>181      </td><td>145      </td></tr>\n",
       "\t<tr><td> 9930    </td><td>47       </td><td>Balanced </td><td>41       </td><td>Normal   </td><td>54       </td><td>Mixed    </td><td>Organised</td><td>54       </td><td>Normal   </td><td>...      </td><td>47       </td><td>Medium   </td><td>44       </td><td>Press    </td><td>54       </td><td>Normal   </td><td>Cover    </td><td>142      </td><td>181      </td><td>145      </td></tr>\n",
       "\t<tr><td> 8485    </td><td>70       </td><td>Fast     </td><td> 0       </td><td>Little   </td><td>70       </td><td>Long     </td><td>Organised</td><td>70       </td><td>Risky    </td><td>...      </td><td>60       </td><td>Medium   </td><td>70       </td><td>Double   </td><td>70       </td><td>Wide     </td><td>Cover    </td><td>140      </td><td>210      </td><td>200      </td></tr>\n",
       "\t<tr><td> 8576    </td><td>65       </td><td>Balanced </td><td> 0       </td><td>Little   </td><td>45       </td><td>Mixed    </td><td>Organised</td><td>65       </td><td>Normal   </td><td>...      </td><td>45       </td><td>Medium   </td><td>45       </td><td>Press    </td><td>50       </td><td>Normal   </td><td>Cover    </td><td>110      </td><td>180      </td><td>140      </td></tr>\n",
       "\t<tr><td> 8564    </td><td>48       </td><td>Balanced </td><td>70       </td><td>Lots     </td><td>52       </td><td>Mixed    </td><td>Organised</td><td>66       </td><td>Normal   </td><td>...      </td><td>58       </td><td>Medium   </td><td>57       </td><td>Press    </td><td>49       </td><td>Normal   </td><td>Cover    </td><td>170      </td><td>177      </td><td>164      </td></tr>\n",
       "\t<tr><td>10215    </td><td>45       </td><td>Balanced </td><td> 0       </td><td>Little   </td><td>44       </td><td>Mixed    </td><td>Organised</td><td>55       </td><td>Normal   </td><td>...      </td><td>52       </td><td>Medium   </td><td>38       </td><td>Press    </td><td>61       </td><td>Normal   </td><td>Cover    </td><td> 89      </td><td>172      </td><td>151      </td></tr>\n",
       "</tbody>\n",
       "</table>\n"
      ],
      "text/latex": [
       "\\begin{tabular}{r|lllllllllllllllllllllllll}\n",
       " team\\_api\\_id & buildUpPlaySpeed & buildUpPlaySpeedClass & buildUpPlayDribbling & buildUpPlayDribblingClass & buildUpPlayPassing & buildUpPlayPassingClass & buildUpPlayPositioningClass & chanceCreationPassing & chanceCreationPassingClass & ... & defencePressure & defencePressureClass & defenceAggression & defenceAggressionClass & defenceTeamWidth & defenceTeamWidthClass & defenceDefenderLineClass & bup & chtot & deftot\\\\\n",
       "\\hline\n",
       "\t  9930     & 52        & Balanced  & 48        & Normal    & 56        & Mixed     & Organised & 54        & Normal    & ...       & 47        & Medium    & 44        & Press     & 54        & Normal    & Cover     & 156       & 181       & 145      \\\\\n",
       "\t  9930     & 47        & Balanced  & 41        & Normal    & 54        & Mixed     & Organised & 54        & Normal    & ...       & 47        & Medium    & 44        & Press     & 54        & Normal    & Cover     & 142       & 181       & 145      \\\\\n",
       "\t  8485     & 70        & Fast      &  0        & Little    & 70        & Long      & Organised & 70        & Risky     & ...       & 60        & Medium    & 70        & Double    & 70        & Wide      & Cover     & 140       & 210       & 200      \\\\\n",
       "\t  8576     & 65        & Balanced  &  0        & Little    & 45        & Mixed     & Organised & 65        & Normal    & ...       & 45        & Medium    & 45        & Press     & 50        & Normal    & Cover     & 110       & 180       & 140      \\\\\n",
       "\t  8564     & 48        & Balanced  & 70        & Lots      & 52        & Mixed     & Organised & 66        & Normal    & ...       & 58        & Medium    & 57        & Press     & 49        & Normal    & Cover     & 170       & 177       & 164      \\\\\n",
       "\t 10215     & 45        & Balanced  &  0        & Little    & 44        & Mixed     & Organised & 55        & Normal    & ...       & 52        & Medium    & 38        & Press     & 61        & Normal    & Cover     &  89       & 172       & 151      \\\\\n",
       "\\end{tabular}\n"
      ],
      "text/markdown": [
       "\n",
       "team_api_id | buildUpPlaySpeed | buildUpPlaySpeedClass | buildUpPlayDribbling | buildUpPlayDribblingClass | buildUpPlayPassing | buildUpPlayPassingClass | buildUpPlayPositioningClass | chanceCreationPassing | chanceCreationPassingClass | ... | defencePressure | defencePressureClass | defenceAggression | defenceAggressionClass | defenceTeamWidth | defenceTeamWidthClass | defenceDefenderLineClass | bup | chtot | deftot | \n",
       "|---|---|---|---|---|---|\n",
       "|  9930     | 52        | Balanced  | 48        | Normal    | 56        | Mixed     | Organised | 54        | Normal    | ...       | 47        | Medium    | 44        | Press     | 54        | Normal    | Cover     | 156       | 181       | 145       | \n",
       "|  9930     | 47        | Balanced  | 41        | Normal    | 54        | Mixed     | Organised | 54        | Normal    | ...       | 47        | Medium    | 44        | Press     | 54        | Normal    | Cover     | 142       | 181       | 145       | \n",
       "|  8485     | 70        | Fast      |  0        | Little    | 70        | Long      | Organised | 70        | Risky     | ...       | 60        | Medium    | 70        | Double    | 70        | Wide      | Cover     | 140       | 210       | 200       | \n",
       "|  8576     | 65        | Balanced  |  0        | Little    | 45        | Mixed     | Organised | 65        | Normal    | ...       | 45        | Medium    | 45        | Press     | 50        | Normal    | Cover     | 110       | 180       | 140       | \n",
       "|  8564     | 48        | Balanced  | 70        | Lots      | 52        | Mixed     | Organised | 66        | Normal    | ...       | 58        | Medium    | 57        | Press     | 49        | Normal    | Cover     | 170       | 177       | 164       | \n",
       "| 10215     | 45        | Balanced  |  0        | Little    | 44        | Mixed     | Organised | 55        | Normal    | ...       | 52        | Medium    | 38        | Press     | 61        | Normal    | Cover     |  89       | 172       | 151       | \n",
       "\n",
       "\n"
      ],
      "text/plain": [
       "  team_api_id buildUpPlaySpeed buildUpPlaySpeedClass buildUpPlayDribbling\n",
       "1  9930       52               Balanced              48                  \n",
       "2  9930       47               Balanced              41                  \n",
       "3  8485       70               Fast                   0                  \n",
       "4  8576       65               Balanced               0                  \n",
       "5  8564       48               Balanced              70                  \n",
       "6 10215       45               Balanced               0                  \n",
       "  buildUpPlayDribblingClass buildUpPlayPassing buildUpPlayPassingClass\n",
       "1 Normal                    56                 Mixed                  \n",
       "2 Normal                    54                 Mixed                  \n",
       "3 Little                    70                 Long                   \n",
       "4 Little                    45                 Mixed                  \n",
       "5 Lots                      52                 Mixed                  \n",
       "6 Little                    44                 Mixed                  \n",
       "  buildUpPlayPositioningClass chanceCreationPassing chanceCreationPassingClass\n",
       "1 Organised                   54                    Normal                    \n",
       "2 Organised                   54                    Normal                    \n",
       "3 Organised                   70                    Risky                     \n",
       "4 Organised                   65                    Normal                    \n",
       "5 Organised                   66                    Normal                    \n",
       "6 Organised                   55                    Normal                    \n",
       "  ... defencePressure defencePressureClass defenceAggression\n",
       "1 ... 47              Medium               44               \n",
       "2 ... 47              Medium               44               \n",
       "3 ... 60              Medium               70               \n",
       "4 ... 45              Medium               45               \n",
       "5 ... 58              Medium               57               \n",
       "6 ... 52              Medium               38               \n",
       "  defenceAggressionClass defenceTeamWidth defenceTeamWidthClass\n",
       "1 Press                  54               Normal               \n",
       "2 Press                  54               Normal               \n",
       "3 Double                 70               Wide                 \n",
       "4 Press                  50               Normal               \n",
       "5 Press                  49               Normal               \n",
       "6 Press                  61               Normal               \n",
       "  defenceDefenderLineClass bup chtot deftot\n",
       "1 Cover                    156 181   145   \n",
       "2 Cover                    142 181   145   \n",
       "3 Cover                    140 210   200   \n",
       "4 Cover                    110 180   140   \n",
       "5 Cover                    170 177   164   \n",
       "6 Cover                     89 172   151   "
      ]
     },
     "metadata": {},
     "output_type": "display_data"
    }
   ],
   "source": [
    "teamStat2 <- teamStat %>% \n",
    "# select(overall_rating,player_api_id) %>%\n",
    "    group_by(team_api_id) %>%\n",
    "#     distinct(player_api_id) %>%\n",
    "#     summarise(overall_rating = max(overall_rating)) %>%\n",
    "#     arrange(player_api_id,desc(overall_rating)) %>%\n",
    "    top_n(n = 1, wt=chtot) %>%\n",
    "#     top_n(n = 1, wt=player_api_id) %>%\n",
    "\n",
    "#     distinct(overall_rating) %>%\n",
    "    as.data.frame()\n",
    "head(teamStat2)"
   ]
  },
  {
   "cell_type": "code",
   "execution_count": 58,
   "metadata": {
    "collapsed": true
   },
   "outputs": [
    {
     "data": {
      "text/html": [
       "<table>\n",
       "<thead><tr><th scope=col>team_api_id</th><th scope=col>chtot</th></tr></thead>\n",
       "<tbody>\n",
       "\t<tr><td>8543</td><td>220 </td></tr>\n",
       "\t<tr><td>8697</td><td>216 </td></tr>\n",
       "\t<tr><td>9875</td><td>215 </td></tr>\n",
       "\t<tr><td>8485</td><td>210 </td></tr>\n",
       "\t<tr><td>8178</td><td>210 </td></tr>\n",
       "\t<tr><td>8658</td><td>210 </td></tr>\n",
       "</tbody>\n",
       "</table>\n"
      ],
      "text/latex": [
       "\\begin{tabular}{r|ll}\n",
       " team\\_api\\_id & chtot\\\\\n",
       "\\hline\n",
       "\t 8543 & 220 \\\\\n",
       "\t 8697 & 216 \\\\\n",
       "\t 9875 & 215 \\\\\n",
       "\t 8485 & 210 \\\\\n",
       "\t 8178 & 210 \\\\\n",
       "\t 8658 & 210 \\\\\n",
       "\\end{tabular}\n"
      ],
      "text/markdown": [
       "\n",
       "team_api_id | chtot | \n",
       "|---|---|---|---|---|---|\n",
       "| 8543 | 220  | \n",
       "| 8697 | 216  | \n",
       "| 9875 | 215  | \n",
       "| 8485 | 210  | \n",
       "| 8178 | 210  | \n",
       "| 8658 | 210  | \n",
       "\n",
       "\n"
      ],
      "text/plain": [
       "  team_api_id chtot\n",
       "1 8543        220  \n",
       "2 8697        216  \n",
       "3 9875        215  \n",
       "4 8485        210  \n",
       "5 8178        210  \n",
       "6 8658        210  "
      ]
     },
     "metadata": {},
     "output_type": "display_data"
    }
   ],
   "source": [
    "teamStat2<- teamStat2 %>% distinct(team_api_id, chtot, .keep_all = TRUE)\n",
    "teamStat2 <- select(teamStat2,team_api_id,chtot)\n",
    "teamStat2<- arrange(teamStat2,desc(chtot))\n",
    "head(teamStat2)"
   ]
  },
  {
   "cell_type": "markdown",
   "metadata": {},
   "source": [
    "Create dataframe storing the max Defence Attributes for each team, and removing duplicate entries."
   ]
  },
  {
   "cell_type": "code",
   "execution_count": 59,
   "metadata": {
    "collapsed": true
   },
   "outputs": [
    {
     "data": {
      "text/html": [
       "<table>\n",
       "<thead><tr><th scope=col>team_api_id</th><th scope=col>buildUpPlaySpeed</th><th scope=col>buildUpPlaySpeedClass</th><th scope=col>buildUpPlayDribbling</th><th scope=col>buildUpPlayDribblingClass</th><th scope=col>buildUpPlayPassing</th><th scope=col>buildUpPlayPassingClass</th><th scope=col>buildUpPlayPositioningClass</th><th scope=col>chanceCreationPassing</th><th scope=col>chanceCreationPassingClass</th><th scope=col>...</th><th scope=col>defencePressure</th><th scope=col>defencePressureClass</th><th scope=col>defenceAggression</th><th scope=col>defenceAggressionClass</th><th scope=col>defenceTeamWidth</th><th scope=col>defenceTeamWidthClass</th><th scope=col>defenceDefenderLineClass</th><th scope=col>bup</th><th scope=col>chtot</th><th scope=col>deftot</th></tr></thead>\n",
       "<tbody>\n",
       "\t<tr><td> 9930    </td><td>60       </td><td>Balanced </td><td> 0       </td><td>Little   </td><td>50       </td><td>Mixed    </td><td>Organised</td><td>60       </td><td>Normal   </td><td>...      </td><td>50       </td><td>Medium   </td><td>55       </td><td>Press    </td><td>45       </td><td>Normal   </td><td>Cover    </td><td>110      </td><td>180      </td><td>150      </td></tr>\n",
       "\t<tr><td> 8485    </td><td>70       </td><td>Fast     </td><td> 0       </td><td>Little   </td><td>70       </td><td>Long     </td><td>Organised</td><td>70       </td><td>Risky    </td><td>...      </td><td>60       </td><td>Medium   </td><td>70       </td><td>Double   </td><td>70       </td><td>Wide     </td><td>Cover    </td><td>140      </td><td>210      </td><td>200      </td></tr>\n",
       "\t<tr><td> 8576    </td><td>65       </td><td>Balanced </td><td> 0       </td><td>Little   </td><td>45       </td><td>Mixed    </td><td>Organised</td><td>65       </td><td>Normal   </td><td>...      </td><td>45       </td><td>Medium   </td><td>45       </td><td>Press    </td><td>50       </td><td>Normal   </td><td>Cover    </td><td>110      </td><td>180      </td><td>140      </td></tr>\n",
       "\t<tr><td> 8564    </td><td>48       </td><td>Balanced </td><td>70       </td><td>Lots     </td><td>52       </td><td>Mixed    </td><td>Organised</td><td>66       </td><td>Normal   </td><td>...      </td><td>58       </td><td>Medium   </td><td>57       </td><td>Press    </td><td>49       </td><td>Normal   </td><td>Cover    </td><td>170      </td><td>177      </td><td>164      </td></tr>\n",
       "\t<tr><td> 8564    </td><td>48       </td><td>Balanced </td><td>70       </td><td>Lots     </td><td>52       </td><td>Mixed    </td><td>Organised</td><td>66       </td><td>Normal   </td><td>...      </td><td>58       </td><td>Medium   </td><td>57       </td><td>Press    </td><td>49       </td><td>Normal   </td><td>Cover    </td><td>170      </td><td>171      </td><td>164      </td></tr>\n",
       "\t<tr><td>10215    </td><td>45       </td><td>Balanced </td><td> 0       </td><td>Little   </td><td>44       </td><td>Mixed    </td><td>Organised</td><td>55       </td><td>Normal   </td><td>...      </td><td>52       </td><td>Medium   </td><td>38       </td><td>Press    </td><td>61       </td><td>Normal   </td><td>Cover    </td><td> 89      </td><td>172      </td><td>151      </td></tr>\n",
       "</tbody>\n",
       "</table>\n"
      ],
      "text/latex": [
       "\\begin{tabular}{r|lllllllllllllllllllllllll}\n",
       " team\\_api\\_id & buildUpPlaySpeed & buildUpPlaySpeedClass & buildUpPlayDribbling & buildUpPlayDribblingClass & buildUpPlayPassing & buildUpPlayPassingClass & buildUpPlayPositioningClass & chanceCreationPassing & chanceCreationPassingClass & ... & defencePressure & defencePressureClass & defenceAggression & defenceAggressionClass & defenceTeamWidth & defenceTeamWidthClass & defenceDefenderLineClass & bup & chtot & deftot\\\\\n",
       "\\hline\n",
       "\t  9930     & 60        & Balanced  &  0        & Little    & 50        & Mixed     & Organised & 60        & Normal    & ...       & 50        & Medium    & 55        & Press     & 45        & Normal    & Cover     & 110       & 180       & 150      \\\\\n",
       "\t  8485     & 70        & Fast      &  0        & Little    & 70        & Long      & Organised & 70        & Risky     & ...       & 60        & Medium    & 70        & Double    & 70        & Wide      & Cover     & 140       & 210       & 200      \\\\\n",
       "\t  8576     & 65        & Balanced  &  0        & Little    & 45        & Mixed     & Organised & 65        & Normal    & ...       & 45        & Medium    & 45        & Press     & 50        & Normal    & Cover     & 110       & 180       & 140      \\\\\n",
       "\t  8564     & 48        & Balanced  & 70        & Lots      & 52        & Mixed     & Organised & 66        & Normal    & ...       & 58        & Medium    & 57        & Press     & 49        & Normal    & Cover     & 170       & 177       & 164      \\\\\n",
       "\t  8564     & 48        & Balanced  & 70        & Lots      & 52        & Mixed     & Organised & 66        & Normal    & ...       & 58        & Medium    & 57        & Press     & 49        & Normal    & Cover     & 170       & 171       & 164      \\\\\n",
       "\t 10215     & 45        & Balanced  &  0        & Little    & 44        & Mixed     & Organised & 55        & Normal    & ...       & 52        & Medium    & 38        & Press     & 61        & Normal    & Cover     &  89       & 172       & 151      \\\\\n",
       "\\end{tabular}\n"
      ],
      "text/markdown": [
       "\n",
       "team_api_id | buildUpPlaySpeed | buildUpPlaySpeedClass | buildUpPlayDribbling | buildUpPlayDribblingClass | buildUpPlayPassing | buildUpPlayPassingClass | buildUpPlayPositioningClass | chanceCreationPassing | chanceCreationPassingClass | ... | defencePressure | defencePressureClass | defenceAggression | defenceAggressionClass | defenceTeamWidth | defenceTeamWidthClass | defenceDefenderLineClass | bup | chtot | deftot | \n",
       "|---|---|---|---|---|---|\n",
       "|  9930     | 60        | Balanced  |  0        | Little    | 50        | Mixed     | Organised | 60        | Normal    | ...       | 50        | Medium    | 55        | Press     | 45        | Normal    | Cover     | 110       | 180       | 150       | \n",
       "|  8485     | 70        | Fast      |  0        | Little    | 70        | Long      | Organised | 70        | Risky     | ...       | 60        | Medium    | 70        | Double    | 70        | Wide      | Cover     | 140       | 210       | 200       | \n",
       "|  8576     | 65        | Balanced  |  0        | Little    | 45        | Mixed     | Organised | 65        | Normal    | ...       | 45        | Medium    | 45        | Press     | 50        | Normal    | Cover     | 110       | 180       | 140       | \n",
       "|  8564     | 48        | Balanced  | 70        | Lots      | 52        | Mixed     | Organised | 66        | Normal    | ...       | 58        | Medium    | 57        | Press     | 49        | Normal    | Cover     | 170       | 177       | 164       | \n",
       "|  8564     | 48        | Balanced  | 70        | Lots      | 52        | Mixed     | Organised | 66        | Normal    | ...       | 58        | Medium    | 57        | Press     | 49        | Normal    | Cover     | 170       | 171       | 164       | \n",
       "| 10215     | 45        | Balanced  |  0        | Little    | 44        | Mixed     | Organised | 55        | Normal    | ...       | 52        | Medium    | 38        | Press     | 61        | Normal    | Cover     |  89       | 172       | 151       | \n",
       "\n",
       "\n"
      ],
      "text/plain": [
       "  team_api_id buildUpPlaySpeed buildUpPlaySpeedClass buildUpPlayDribbling\n",
       "1  9930       60               Balanced               0                  \n",
       "2  8485       70               Fast                   0                  \n",
       "3  8576       65               Balanced               0                  \n",
       "4  8564       48               Balanced              70                  \n",
       "5  8564       48               Balanced              70                  \n",
       "6 10215       45               Balanced               0                  \n",
       "  buildUpPlayDribblingClass buildUpPlayPassing buildUpPlayPassingClass\n",
       "1 Little                    50                 Mixed                  \n",
       "2 Little                    70                 Long                   \n",
       "3 Little                    45                 Mixed                  \n",
       "4 Lots                      52                 Mixed                  \n",
       "5 Lots                      52                 Mixed                  \n",
       "6 Little                    44                 Mixed                  \n",
       "  buildUpPlayPositioningClass chanceCreationPassing chanceCreationPassingClass\n",
       "1 Organised                   60                    Normal                    \n",
       "2 Organised                   70                    Risky                     \n",
       "3 Organised                   65                    Normal                    \n",
       "4 Organised                   66                    Normal                    \n",
       "5 Organised                   66                    Normal                    \n",
       "6 Organised                   55                    Normal                    \n",
       "  ... defencePressure defencePressureClass defenceAggression\n",
       "1 ... 50              Medium               55               \n",
       "2 ... 60              Medium               70               \n",
       "3 ... 45              Medium               45               \n",
       "4 ... 58              Medium               57               \n",
       "5 ... 58              Medium               57               \n",
       "6 ... 52              Medium               38               \n",
       "  defenceAggressionClass defenceTeamWidth defenceTeamWidthClass\n",
       "1 Press                  45               Normal               \n",
       "2 Double                 70               Wide                 \n",
       "3 Press                  50               Normal               \n",
       "4 Press                  49               Normal               \n",
       "5 Press                  49               Normal               \n",
       "6 Press                  61               Normal               \n",
       "  defenceDefenderLineClass bup chtot deftot\n",
       "1 Cover                    110 180   150   \n",
       "2 Cover                    140 210   200   \n",
       "3 Cover                    110 180   140   \n",
       "4 Cover                    170 177   164   \n",
       "5 Cover                    170 171   164   \n",
       "6 Cover                     89 172   151   "
      ]
     },
     "metadata": {},
     "output_type": "display_data"
    }
   ],
   "source": [
    "teamStat3 <- teamStat %>% \n",
    "# select(overall_rating,player_api_id) %>%\n",
    "    group_by(team_api_id) %>%\n",
    "#     distinct(player_api_id) %>%\n",
    "#     summarise(overall_rating = max(overall_rating)) %>%\n",
    "#     arrange(player_api_id,desc(overall_rating)) %>%\n",
    "    top_n(n = 1, wt=deftot) %>%\n",
    "#     top_n(n = 1, wt=player_api_id) %>%\n",
    "\n",
    "#     distinct(overall_rating) %>%\n",
    "    as.data.frame()\n",
    "head(teamStat3)"
   ]
  },
  {
   "cell_type": "code",
   "execution_count": 60,
   "metadata": {
    "collapsed": true
   },
   "outputs": [
    {
     "data": {
      "text/html": [
       "<table>\n",
       "<thead><tr><th scope=col>team_api_id</th><th scope=col>deftot</th></tr></thead>\n",
       "<tbody>\n",
       "\t<tr><td>9993</td><td>210 </td></tr>\n",
       "\t<tr><td>8658</td><td>210 </td></tr>\n",
       "\t<tr><td>8483</td><td>210 </td></tr>\n",
       "\t<tr><td>8678</td><td>210 </td></tr>\n",
       "\t<tr><td>8521</td><td>210 </td></tr>\n",
       "\t<tr><td>8344</td><td>210 </td></tr>\n",
       "</tbody>\n",
       "</table>\n"
      ],
      "text/latex": [
       "\\begin{tabular}{r|ll}\n",
       " team\\_api\\_id & deftot\\\\\n",
       "\\hline\n",
       "\t 9993 & 210 \\\\\n",
       "\t 8658 & 210 \\\\\n",
       "\t 8483 & 210 \\\\\n",
       "\t 8678 & 210 \\\\\n",
       "\t 8521 & 210 \\\\\n",
       "\t 8344 & 210 \\\\\n",
       "\\end{tabular}\n"
      ],
      "text/markdown": [
       "\n",
       "team_api_id | deftot | \n",
       "|---|---|---|---|---|---|\n",
       "| 9993 | 210  | \n",
       "| 8658 | 210  | \n",
       "| 8483 | 210  | \n",
       "| 8678 | 210  | \n",
       "| 8521 | 210  | \n",
       "| 8344 | 210  | \n",
       "\n",
       "\n"
      ],
      "text/plain": [
       "  team_api_id deftot\n",
       "1 9993        210   \n",
       "2 8658        210   \n",
       "3 8483        210   \n",
       "4 8678        210   \n",
       "5 8521        210   \n",
       "6 8344        210   "
      ]
     },
     "metadata": {},
     "output_type": "display_data"
    }
   ],
   "source": [
    "teamStat3<- teamStat3 %>% distinct(team_api_id, deftot, .keep_all = TRUE)\n",
    "teamStat3 <- select(teamStat3,team_api_id,deftot)\n",
    "teamStat3<- arrange(teamStat3,desc(deftot))\n",
    "head(teamStat3)"
   ]
  },
  {
   "cell_type": "markdown",
   "metadata": {},
   "source": [
    "Merging the dataframes, each containing max of the sum of the BuildUp, Chance Creation and Defence Attributes, \n",
    "and renaming the resultant column names"
   ]
  },
  {
   "cell_type": "code",
   "execution_count": 61,
   "metadata": {
    "collapsed": true
   },
   "outputs": [
    {
     "data": {
      "text/html": [
       "<table>\n",
       "<thead><tr><th scope=col>team_api_id</th><th scope=col>id</th><th scope=col>team_fifa_api_id</th><th scope=col>team_long_name</th><th scope=col>team_short_name</th><th scope=col>bup</th><th scope=col>chtot</th><th scope=col>deftot</th></tr></thead>\n",
       "<tbody>\n",
       "\t<tr><td>1601                 </td><td>31446                </td><td>   874               </td><td>Ruch Chorzów         </td><td>CHO                  </td><td>139                  </td><td>186                  </td><td>175                  </td></tr>\n",
       "\t<tr><td>1773                 </td><td> 1513                </td><td>100087               </td><td>Oud-Heverlee Leuven  </td><td>O-H                  </td><td>153                  </td><td>157                  </td><td>137                  </td></tr>\n",
       "\t<tr><td>1957                 </td><td>31456                </td><td>110745               </td><td>Jagiellonia Bialystok</td><td>BIA                  </td><td>158                  </td><td>163                  </td><td>210                  </td></tr>\n",
       "\t<tr><td>2033                 </td><td>35774                </td><td>111540               </td><td>S.C. Olhanense       </td><td>OLH                  </td><td>147                  </td><td>165                  </td><td>155                  </td></tr>\n",
       "\t<tr><td>2182                 </td><td>31453                </td><td>   873               </td><td>Lech Poznan          </td><td>POZ                  </td><td>176                  </td><td>196                  </td><td>160                  </td></tr>\n",
       "\t<tr><td>2183                 </td><td>31448                </td><td>  1570               </td><td>P. Warszawa          </td><td>PWA                  </td><td> 80                  </td><td>180                  </td><td>175                  </td></tr>\n",
       "</tbody>\n",
       "</table>\n"
      ],
      "text/latex": [
       "\\begin{tabular}{r|llllllll}\n",
       " team\\_api\\_id & id & team\\_fifa\\_api\\_id & team\\_long\\_name & team\\_short\\_name & bup & chtot & deftot\\\\\n",
       "\\hline\n",
       "\t 1601                  & 31446                 &    874                & Ruch Chorzów          & CHO                   & 139                   & 186                   & 175                  \\\\\n",
       "\t 1773                  &  1513                 & 100087                & Oud-Heverlee Leuven   & O-H                   & 153                   & 157                   & 137                  \\\\\n",
       "\t 1957                  & 31456                 & 110745                & Jagiellonia Bialystok & BIA                   & 158                   & 163                   & 210                  \\\\\n",
       "\t 2033                  & 35774                 & 111540                & S.C. Olhanense        & OLH                   & 147                   & 165                   & 155                  \\\\\n",
       "\t 2182                  & 31453                 &    873                & Lech Poznan           & POZ                   & 176                   & 196                   & 160                  \\\\\n",
       "\t 2183                  & 31448                 &   1570                & P. Warszawa           & PWA                   &  80                   & 180                   & 175                  \\\\\n",
       "\\end{tabular}\n"
      ],
      "text/markdown": [
       "\n",
       "team_api_id | id | team_fifa_api_id | team_long_name | team_short_name | bup | chtot | deftot | \n",
       "|---|---|---|---|---|---|\n",
       "| 1601                  | 31446                 |    874                | Ruch Chorzów          | CHO                   | 139                   | 186                   | 175                   | \n",
       "| 1773                  |  1513                 | 100087                | Oud-Heverlee Leuven   | O-H                   | 153                   | 157                   | 137                   | \n",
       "| 1957                  | 31456                 | 110745                | Jagiellonia Bialystok | BIA                   | 158                   | 163                   | 210                   | \n",
       "| 2033                  | 35774                 | 111540                | S.C. Olhanense        | OLH                   | 147                   | 165                   | 155                   | \n",
       "| 2182                  | 31453                 |    873                | Lech Poznan           | POZ                   | 176                   | 196                   | 160                   | \n",
       "| 2183                  | 31448                 |   1570                | P. Warszawa           | PWA                   |  80                   | 180                   | 175                   | \n",
       "\n",
       "\n"
      ],
      "text/plain": [
       "  team_api_id id    team_fifa_api_id team_long_name        team_short_name bup\n",
       "1 1601        31446    874           Ruch Chorzów          CHO             139\n",
       "2 1773         1513 100087           Oud-Heverlee Leuven   O-H             153\n",
       "3 1957        31456 110745           Jagiellonia Bialystok BIA             158\n",
       "4 2033        35774 111540           S.C. Olhanense        OLH             147\n",
       "5 2182        31453    873           Lech Poznan           POZ             176\n",
       "6 2183        31448   1570           P. Warszawa           PWA              80\n",
       "  chtot deftot\n",
       "1 186   175   \n",
       "2 157   137   \n",
       "3 163   210   \n",
       "4 165   155   \n",
       "5 196   160   \n",
       "6 180   175   "
      ]
     },
     "metadata": {},
     "output_type": "display_data"
    },
    {
     "name": "stdout",
     "output_type": "stream",
     "text": [
      "\n",
      "Changing in teamComb                                                           \n",
      "From: team_api_id team_long_name bup      chtot     deftot \n",
      "To:   team_api_id team_name      build_up chance_cr defence\n",
      "\n"
     ]
    }
   ],
   "source": [
    "teamComb <- merge(team,teamStat1)\n",
    "teamComb <- merge(teamComb,teamStat2)\n",
    "teamComb <- merge(teamComb,teamStat3)\n",
    "head(teamComb)\n",
    "teamComb<- select(teamComb,team_api_id,team_long_name,bup,chtot,deftot)\n",
    "teamComb <- rename.vars(teamComb, c(\"team_api_id\",\"team_long_name\",\"bup\",\"chtot\",\"deftot\"), \n",
    "                                  c(\"team_api_id\",\"team_name\",\"build_up\",\"chance_cr\",\"defence\"))\n"
   ]
  },
  {
   "cell_type": "markdown",
   "metadata": {},
   "source": [
    "Find number of home and away goals by each team, \n",
    "adding a column for total goals by each team \n",
    "and merging them with the above dataframe"
   ]
  },
  {
   "cell_type": "code",
   "execution_count": 62,
   "metadata": {
    "collapsed": true
   },
   "outputs": [],
   "source": [
    "#Find number of home goals by each team\n",
    "query1 <- 'select a.team_api_id,\n",
    "                  a.team_long_name,\n",
    "                 sum(b.home_team_goal)\n",
    "            from  team a \n",
    "            inner join match b\n",
    "        on a.team_api_id = b.home_team_api_id \n",
    "        group by a.team_api_id'\n",
    "home_goals <- sqldf(query1,stringsAsFactors = FALSE)\n"
   ]
  },
  {
   "cell_type": "code",
   "execution_count": 63,
   "metadata": {
    "collapsed": true
   },
   "outputs": [],
   "source": [
    "#Find number of away goals by each team\n",
    "query2 <- 'select a.team_api_id,\n",
    "                 sum(b.away_team_goal)\n",
    "            from  team a \n",
    "            inner join match b\n",
    "        on a.team_api_id = b.away_team_api_id \n",
    "        group by a.team_api_id'\n",
    "away_goals <- sqldf(query2,stringsAsFactors = FALSE)\n"
   ]
  },
  {
   "cell_type": "code",
   "execution_count": 64,
   "metadata": {
    "collapsed": false
   },
   "outputs": [
    {
     "name": "stdout",
     "output_type": "stream",
     "text": [
      "\n",
      "Changing in teamGoals                                                                            \n",
      "From: team_api_id team_long_name sum(b.home_team_goal) sum(b.away_team_goal)\n",
      "To:   team_api_id team_name      home_goals            away_goals           \n",
      "\n"
     ]
    }
   ],
   "source": [
    "#Merge both, rename and add total_goals\n",
    "teamGoals <- merge(home_goals,away_goals,by=\"team_api_id\")\n",
    "teamGoals <- rename.vars(teamGoals, c(\"team_api_id\",\"team_long_name\",\"sum(b.home_team_goal)\",\"sum(b.away_team_goal)\"), \n",
    "                                    c(\"team_api_id\",\"team_name\",\"home_goals\",\"away_goals\"))\n",
    "\n",
    "teamGoals<- mutate(teamGoals,total_goals=home_goals+away_goals)\n"
   ]
  },
  {
   "cell_type": "markdown",
   "metadata": {},
   "source": [
    "Merge the goal data and team data collected before, and write the CSV file"
   ]
  },
  {
   "cell_type": "code",
   "execution_count": 65,
   "metadata": {
    "collapsed": true
   },
   "outputs": [],
   "source": [
    "#Merge with Team Data collected before\n",
    "teamComb<-merge(teamComb,teamGoals)\n",
    "#Write CSV\n",
    "write.csv(teamComb,\"teams.csv\",row.names=FALSE)"
   ]
  },
  {
   "cell_type": "code",
   "execution_count": null,
   "metadata": {
    "collapsed": true
   },
   "outputs": [],
   "source": []
  },
  {
   "cell_type": "code",
   "execution_count": null,
   "metadata": {
    "collapsed": true
   },
   "outputs": [],
   "source": []
  }
 ],
 "metadata": {
  "kernelspec": {
   "display_name": "R",
   "language": "R",
   "name": "ir"
  },
  "language_info": {
   "codemirror_mode": "r",
   "file_extension": ".r",
   "mimetype": "text/x-r-source",
   "name": "R",
   "pygments_lexer": "r",
   "version": "3.3.2"
  }
 },
 "nbformat": 4,
 "nbformat_minor": 2
}
