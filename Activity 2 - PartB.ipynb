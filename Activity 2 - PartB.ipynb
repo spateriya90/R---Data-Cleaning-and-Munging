{
 "cells": [
  {
   "cell_type": "markdown",
   "metadata": {},
   "source": [
    "# Activity 2\n",
    "## Extract and Repurpose Data - Part B\n",
    "\n",
    "This notebook takes the data from the CSV Files created with the Part A notebook and answers the 8 questions for this activity. \n",
    "\n",
    "We begin with loading the required libraries, and then reading the 2 CSV files into R."
   ]
  },
  {
   "cell_type": "code",
   "execution_count": 25,
   "metadata": {
    "collapsed": true
   },
   "outputs": [],
   "source": [
    "library(dplyr)\n",
    "library(RSQLite) \n",
    "library(plyr)\n",
    "library(sqldf)\n",
    "library(gdata)"
   ]
  },
  {
   "cell_type": "code",
   "execution_count": null,
   "metadata": {
    "collapsed": true
   },
   "outputs": [],
   "source": []
  },
  {
   "cell_type": "code",
   "execution_count": 26,
   "metadata": {
    "collapsed": true
   },
   "outputs": [],
   "source": [
    "players = read.csv(\"players.csv\", header = TRUE)\n",
    "teams = read.csv(\"teams.csv\", header = TRUE)\n"
   ]
  },
  {
   "cell_type": "markdown",
   "metadata": {},
   "source": [
    "### Q.1 Which are the top 10 players by overall rating?\n",
    "\n",
    "For this question, we select the overall_rating, player_name and player_api_id fields, \n",
    "and then we sort the data in descending order of overall_rating.\n",
    "The first 10 rows are then displayed"
   ]
  },
  {
   "cell_type": "code",
   "execution_count": 27,
   "metadata": {
    "collapsed": false
   },
   "outputs": [
    {
     "data": {
      "text/html": [
       "<table>\n",
       "<thead><tr><th scope=col>player_api_id</th><th scope=col>player_name</th><th scope=col>overall_rating</th></tr></thead>\n",
       "<tbody>\n",
       "\t<tr><td>30981            </td><td>Lionel Messi     </td><td>94               </td></tr>\n",
       "\t<tr><td>30717            </td><td>Gianluigi Buffon </td><td>93               </td></tr>\n",
       "\t<tr><td>30829            </td><td>Wayne Rooney     </td><td>93               </td></tr>\n",
       "\t<tr><td>30893            </td><td>Cristiano Ronaldo</td><td>93               </td></tr>\n",
       "\t<tr><td>39854            </td><td>Xavi Hernandez   </td><td>92               </td></tr>\n",
       "\t<tr><td>39989            </td><td>Gregory Coupet   </td><td>92               </td></tr>\n",
       "\t<tr><td>30626            </td><td>Thierry Henry    </td><td>91               </td></tr>\n",
       "\t<tr><td>30627            </td><td>John Terry       </td><td>91               </td></tr>\n",
       "\t<tr><td>30657            </td><td>Iker Casillas    </td><td>91               </td></tr>\n",
       "\t<tr><td>30723            </td><td>Alessandro Nesta </td><td>91               </td></tr>\n",
       "</tbody>\n",
       "</table>\n"
      ],
      "text/latex": [
       "\\begin{tabular}{r|lll}\n",
       " player\\_api\\_id & player\\_name & overall\\_rating\\\\\n",
       "\\hline\n",
       "\t 30981             & Lionel Messi      & 94               \\\\\n",
       "\t 30717             & Gianluigi Buffon  & 93               \\\\\n",
       "\t 30829             & Wayne Rooney      & 93               \\\\\n",
       "\t 30893             & Cristiano Ronaldo & 93               \\\\\n",
       "\t 39854             & Xavi Hernandez    & 92               \\\\\n",
       "\t 39989             & Gregory Coupet    & 92               \\\\\n",
       "\t 30626             & Thierry Henry     & 91               \\\\\n",
       "\t 30627             & John Terry        & 91               \\\\\n",
       "\t 30657             & Iker Casillas     & 91               \\\\\n",
       "\t 30723             & Alessandro Nesta  & 91               \\\\\n",
       "\\end{tabular}\n"
      ],
      "text/markdown": [
       "\n",
       "player_api_id | player_name | overall_rating | \n",
       "|---|---|---|---|---|---|---|---|---|---|\n",
       "| 30981             | Lionel Messi      | 94                | \n",
       "| 30717             | Gianluigi Buffon  | 93                | \n",
       "| 30829             | Wayne Rooney      | 93                | \n",
       "| 30893             | Cristiano Ronaldo | 93                | \n",
       "| 39854             | Xavi Hernandez    | 92                | \n",
       "| 39989             | Gregory Coupet    | 92                | \n",
       "| 30626             | Thierry Henry     | 91                | \n",
       "| 30627             | John Terry        | 91                | \n",
       "| 30657             | Iker Casillas     | 91                | \n",
       "| 30723             | Alessandro Nesta  | 91                | \n",
       "\n",
       "\n"
      ],
      "text/plain": [
       "   player_api_id player_name       overall_rating\n",
       "1  30981         Lionel Messi      94            \n",
       "2  30717         Gianluigi Buffon  93            \n",
       "3  30829         Wayne Rooney      93            \n",
       "4  30893         Cristiano Ronaldo 93            \n",
       "5  39854         Xavi Hernandez    92            \n",
       "6  39989         Gregory Coupet    92            \n",
       "7  30626         Thierry Henry     91            \n",
       "8  30627         John Terry        91            \n",
       "9  30657         Iker Casillas     91            \n",
       "10 30723         Alessandro Nesta  91            "
      ]
     },
     "metadata": {},
     "output_type": "display_data"
    }
   ],
   "source": [
    "top10players <- select(players,player_api_id,player_name,overall_rating) \n",
    "top10players <- arrange(top10players,desc (overall_rating))\n",
    "head(top10players,n=10)"
   ]
  },
  {
   "cell_type": "markdown",
   "metadata": {},
   "source": [
    "<br><br><br>"
   ]
  },
  {
   "cell_type": "markdown",
   "metadata": {},
   "source": [
    "### Q.2 Which are the top 10 goalkeepers by sum of gk attributes?\n",
    "\n",
    "For this question, we select the gk_total, player_name and player_api_id fields, \n",
    "and then we sort the data in descending order of gk_total.\n",
    "The first 10 rows are then displayed"
   ]
  },
  {
   "cell_type": "code",
   "execution_count": 28,
   "metadata": {
    "collapsed": false
   },
   "outputs": [
    {
     "data": {
      "text/html": [
       "<table>\n",
       "<thead><tr><th scope=col>player_api_id</th><th scope=col>player_name</th><th scope=col>gk_total</th></tr></thead>\n",
       "<tbody>\n",
       "\t<tr><td> 30717           </td><td>Gianluigi Buffon </td><td>449              </td></tr>\n",
       "\t<tr><td> 39989           </td><td>Gregory Coupet   </td><td>447              </td></tr>\n",
       "\t<tr><td> 30859           </td><td>Petr Cech        </td><td>445              </td></tr>\n",
       "\t<tr><td> 30657           </td><td>Iker Casillas    </td><td>442              </td></tr>\n",
       "\t<tr><td> 27299           </td><td>Manuel Neuer     </td><td>440              </td></tr>\n",
       "\t<tr><td> 30989           </td><td>Julio Cesar      </td><td>438              </td></tr>\n",
       "\t<tr><td> 24503           </td><td>Sebastian Frey   </td><td>437              </td></tr>\n",
       "\t<tr><td> 30726           </td><td>Edwin van der Sar</td><td>436              </td></tr>\n",
       "\t<tr><td>182917           </td><td>David De Gea     </td><td>429              </td></tr>\n",
       "\t<tr><td> 30660           </td><td>Pepe Reina       </td><td>428              </td></tr>\n",
       "</tbody>\n",
       "</table>\n"
      ],
      "text/latex": [
       "\\begin{tabular}{r|lll}\n",
       " player\\_api\\_id & player\\_name & gk\\_total\\\\\n",
       "\\hline\n",
       "\t  30717            & Gianluigi Buffon  & 449              \\\\\n",
       "\t  39989            & Gregory Coupet    & 447              \\\\\n",
       "\t  30859            & Petr Cech         & 445              \\\\\n",
       "\t  30657            & Iker Casillas     & 442              \\\\\n",
       "\t  27299            & Manuel Neuer      & 440              \\\\\n",
       "\t  30989            & Julio Cesar       & 438              \\\\\n",
       "\t  24503            & Sebastian Frey    & 437              \\\\\n",
       "\t  30726            & Edwin van der Sar & 436              \\\\\n",
       "\t 182917            & David De Gea      & 429              \\\\\n",
       "\t  30660            & Pepe Reina        & 428              \\\\\n",
       "\\end{tabular}\n"
      ],
      "text/markdown": [
       "\n",
       "player_api_id | player_name | gk_total | \n",
       "|---|---|---|---|---|---|---|---|---|---|\n",
       "|  30717            | Gianluigi Buffon  | 449               | \n",
       "|  39989            | Gregory Coupet    | 447               | \n",
       "|  30859            | Petr Cech         | 445               | \n",
       "|  30657            | Iker Casillas     | 442               | \n",
       "|  27299            | Manuel Neuer      | 440               | \n",
       "|  30989            | Julio Cesar       | 438               | \n",
       "|  24503            | Sebastian Frey    | 437               | \n",
       "|  30726            | Edwin van der Sar | 436               | \n",
       "| 182917            | David De Gea      | 429               | \n",
       "|  30660            | Pepe Reina        | 428               | \n",
       "\n",
       "\n"
      ],
      "text/plain": [
       "   player_api_id player_name       gk_total\n",
       "1   30717        Gianluigi Buffon  449     \n",
       "2   39989        Gregory Coupet    447     \n",
       "3   30859        Petr Cech         445     \n",
       "4   30657        Iker Casillas     442     \n",
       "5   27299        Manuel Neuer      440     \n",
       "6   30989        Julio Cesar       438     \n",
       "7   24503        Sebastian Frey    437     \n",
       "8   30726        Edwin van der Sar 436     \n",
       "9  182917        David De Gea      429     \n",
       "10  30660        Pepe Reina        428     "
      ]
     },
     "metadata": {},
     "output_type": "display_data"
    }
   ],
   "source": [
    "topgk <- players %>% select(player_api_id,player_name,gk_total) %>% arrange(desc (gk_total))\n",
    "head(topgk,n=10)"
   ]
  },
  {
   "cell_type": "markdown",
   "metadata": {},
   "source": [
    "<br><br><br>"
   ]
  },
  {
   "cell_type": "markdown",
   "metadata": {},
   "source": [
    "### Q.3 Which are the top 10 players by number of appearances (with any team they played with)?\n",
    "\n",
    "For this question, we select the num_matches, player_name and player_api_id fields, \n",
    "and then we sort the data in descending order of num_matches.\n",
    "The first 10 rows are then displayed"
   ]
  },
  {
   "cell_type": "code",
   "execution_count": 29,
   "metadata": {
    "collapsed": false
   },
   "outputs": [
    {
     "data": {
      "text/html": [
       "<table>\n",
       "<thead><tr><th scope=col>player_api_id</th><th scope=col>player_name</th><th scope=col>num_matches</th></tr></thead>\n",
       "<tbody>\n",
       "\t<tr><td>31293               </td><td>Steve Mandanda      </td><td>300                 </td></tr>\n",
       "\t<tr><td>41097               </td><td>Stephane Ruffier    </td><td>294                 </td></tr>\n",
       "\t<tr><td>33764               </td><td>Gorka Iraizoz Moreno</td><td>286                 </td></tr>\n",
       "\t<tr><td>42422               </td><td>Samir Handanovic    </td><td>286                 </td></tr>\n",
       "\t<tr><td>26295               </td><td>Hugo Lloris         </td><td>282                 </td></tr>\n",
       "\t<tr><td>31465               </td><td>Tim Howard          </td><td>282                 </td></tr>\n",
       "\t<tr><td>31432               </td><td>Joe Hart            </td><td>275                 </td></tr>\n",
       "\t<tr><td>26168               </td><td>Cedric Carrasso     </td><td>268                 </td></tr>\n",
       "\t<tr><td>26399               </td><td>Daniel Congre       </td><td>262                 </td></tr>\n",
       "\t<tr><td>94550               </td><td>Moussa Sissoko      </td><td>260                 </td></tr>\n",
       "</tbody>\n",
       "</table>\n"
      ],
      "text/latex": [
       "\\begin{tabular}{r|lll}\n",
       " player\\_api\\_id & player\\_name & num\\_matches\\\\\n",
       "\\hline\n",
       "\t 31293                & Steve Mandanda       & 300                 \\\\\n",
       "\t 41097                & Stephane Ruffier     & 294                 \\\\\n",
       "\t 33764                & Gorka Iraizoz Moreno & 286                 \\\\\n",
       "\t 42422                & Samir Handanovic     & 286                 \\\\\n",
       "\t 26295                & Hugo Lloris          & 282                 \\\\\n",
       "\t 31465                & Tim Howard           & 282                 \\\\\n",
       "\t 31432                & Joe Hart             & 275                 \\\\\n",
       "\t 26168                & Cedric Carrasso      & 268                 \\\\\n",
       "\t 26399                & Daniel Congre        & 262                 \\\\\n",
       "\t 94550                & Moussa Sissoko       & 260                 \\\\\n",
       "\\end{tabular}\n"
      ],
      "text/markdown": [
       "\n",
       "player_api_id | player_name | num_matches | \n",
       "|---|---|---|---|---|---|---|---|---|---|\n",
       "| 31293                | Steve Mandanda       | 300                  | \n",
       "| 41097                | Stephane Ruffier     | 294                  | \n",
       "| 33764                | Gorka Iraizoz Moreno | 286                  | \n",
       "| 42422                | Samir Handanovic     | 286                  | \n",
       "| 26295                | Hugo Lloris          | 282                  | \n",
       "| 31465                | Tim Howard           | 282                  | \n",
       "| 31432                | Joe Hart             | 275                  | \n",
       "| 26168                | Cedric Carrasso      | 268                  | \n",
       "| 26399                | Daniel Congre        | 262                  | \n",
       "| 94550                | Moussa Sissoko       | 260                  | \n",
       "\n",
       "\n"
      ],
      "text/plain": [
       "   player_api_id player_name          num_matches\n",
       "1  31293         Steve Mandanda       300        \n",
       "2  41097         Stephane Ruffier     294        \n",
       "3  33764         Gorka Iraizoz Moreno 286        \n",
       "4  42422         Samir Handanovic     286        \n",
       "5  26295         Hugo Lloris          282        \n",
       "6  31465         Tim Howard           282        \n",
       "7  31432         Joe Hart             275        \n",
       "8  26168         Cedric Carrasso      268        \n",
       "9  26399         Daniel Congre        262        \n",
       "10 94550         Moussa Sissoko       260        "
      ]
     },
     "metadata": {},
     "output_type": "display_data"
    }
   ],
   "source": [
    "topmatch <- players %>% select(player_api_id,player_name,num_matches) %>% arrange(desc (num_matches))\n",
    "head(topmatch,n=10)\n"
   ]
  },
  {
   "cell_type": "markdown",
   "metadata": {},
   "source": [
    "### Q.4 Which are the top 10 players by number of leagues they played in?\n",
    "\n",
    "For this question, we select the num_leagues, player_name and player_api_id fields, \n",
    "and then we sort the data in descending order of num_leagues.\n",
    "The first 10 rows are then displayed"
   ]
  },
  {
   "cell_type": "code",
   "execution_count": 30,
   "metadata": {
    "collapsed": false
   },
   "outputs": [
    {
     "data": {
      "text/html": [
       "<table>\n",
       "<thead><tr><th scope=col>player_api_id</th><th scope=col>player_name</th><th scope=col>num_leagues</th></tr></thead>\n",
       "<tbody>\n",
       "\t<tr><td> 42119               </td><td>Gelson Fernandes     </td><td>6                    </td></tr>\n",
       "\t<tr><td>116750               </td><td>Ricky van Wolfswinkel</td><td>5                    </td></tr>\n",
       "\t<tr><td>178538               </td><td>Filip Djuricic       </td><td>5                    </td></tr>\n",
       "\t<tr><td> 22543               </td><td>Radamel Falcao       </td><td>4                    </td></tr>\n",
       "\t<tr><td> 24123               </td><td>Jonathan De Guzman   </td><td>4                    </td></tr>\n",
       "\t<tr><td> 25816               </td><td>Almen Abdi           </td><td>4                    </td></tr>\n",
       "\t<tr><td> 26434               </td><td>Ibrahim Afellay      </td><td>4                    </td></tr>\n",
       "\t<tr><td> 26489               </td><td>Edson Braafheid      </td><td>4                    </td></tr>\n",
       "\t<tr><td> 26675               </td><td>Eljero Elia          </td><td>4                    </td></tr>\n",
       "\t<tr><td> 30477               </td><td>Danijel Pranjic      </td><td>4                    </td></tr>\n",
       "</tbody>\n",
       "</table>\n"
      ],
      "text/latex": [
       "\\begin{tabular}{r|lll}\n",
       " player\\_api\\_id & player\\_name & num\\_leagues\\\\\n",
       "\\hline\n",
       "\t  42119                & Gelson Fernandes      & 6                    \\\\\n",
       "\t 116750                & Ricky van Wolfswinkel & 5                    \\\\\n",
       "\t 178538                & Filip Djuricic        & 5                    \\\\\n",
       "\t  22543                & Radamel Falcao        & 4                    \\\\\n",
       "\t  24123                & Jonathan De Guzman    & 4                    \\\\\n",
       "\t  25816                & Almen Abdi            & 4                    \\\\\n",
       "\t  26434                & Ibrahim Afellay       & 4                    \\\\\n",
       "\t  26489                & Edson Braafheid       & 4                    \\\\\n",
       "\t  26675                & Eljero Elia           & 4                    \\\\\n",
       "\t  30477                & Danijel Pranjic       & 4                    \\\\\n",
       "\\end{tabular}\n"
      ],
      "text/markdown": [
       "\n",
       "player_api_id | player_name | num_leagues | \n",
       "|---|---|---|---|---|---|---|---|---|---|\n",
       "|  42119                | Gelson Fernandes      | 6                     | \n",
       "| 116750                | Ricky van Wolfswinkel | 5                     | \n",
       "| 178538                | Filip Djuricic        | 5                     | \n",
       "|  22543                | Radamel Falcao        | 4                     | \n",
       "|  24123                | Jonathan De Guzman    | 4                     | \n",
       "|  25816                | Almen Abdi            | 4                     | \n",
       "|  26434                | Ibrahim Afellay       | 4                     | \n",
       "|  26489                | Edson Braafheid       | 4                     | \n",
       "|  26675                | Eljero Elia           | 4                     | \n",
       "|  30477                | Danijel Pranjic       | 4                     | \n",
       "\n",
       "\n"
      ],
      "text/plain": [
       "   player_api_id player_name           num_leagues\n",
       "1   42119        Gelson Fernandes      6          \n",
       "2  116750        Ricky van Wolfswinkel 5          \n",
       "3  178538        Filip Djuricic        5          \n",
       "4   22543        Radamel Falcao        4          \n",
       "5   24123        Jonathan De Guzman    4          \n",
       "6   25816        Almen Abdi            4          \n",
       "7   26434        Ibrahim Afellay       4          \n",
       "8   26489        Edson Braafheid       4          \n",
       "9   26675        Eljero Elia           4          \n",
       "10  30477        Danijel Pranjic       4          "
      ]
     },
     "metadata": {},
     "output_type": "display_data"
    }
   ],
   "source": [
    "topleague <- players %>% select(player_api_id,player_name,num_leagues) %>% arrange(desc (num_leagues))\n",
    "head(topleague,n=10)\n"
   ]
  },
  {
   "cell_type": "markdown",
   "metadata": {},
   "source": [
    "### Q.5 Which are the top 10 teams by sum of build up play attributes?\n",
    "\n",
    "For this question, we select the sum of buildup attributes, team_api_id and team_name fields, \n",
    "and then we sort the data in descending order of build_up.\n",
    "The first 10 rows are then displayed\n"
   ]
  },
  {
   "cell_type": "code",
   "execution_count": 31,
   "metadata": {
    "collapsed": false
   },
   "outputs": [
    {
     "data": {
      "text/html": [
       "<table>\n",
       "<thead><tr><th scope=col>team_api_id</th><th scope=col>team_name</th><th scope=col>build_up</th></tr></thead>\n",
       "<tbody>\n",
       "\t<tr><td>  9804                    </td><td>Torino                    </td><td>209                       </td></tr>\n",
       "\t<tr><td>  8600                    </td><td>Udinese                   </td><td>205                       </td></tr>\n",
       "\t<tr><td>  8194                    </td><td>Fortuna Düsseldorf        </td><td>198                       </td></tr>\n",
       "\t<tr><td>  8033                    </td><td>Podbeskidzie Bielsko-Biala</td><td>193                       </td></tr>\n",
       "\t<tr><td>  8245                    </td><td>Korona Kielce             </td><td>192                       </td></tr>\n",
       "\t<tr><td>208931                    </td><td>Carpi                     </td><td>190                       </td></tr>\n",
       "\t<tr><td>  8024                    </td><td>Widzew Lódz               </td><td>190                       </td></tr>\n",
       "\t<tr><td>  8244                    </td><td>Widzew Lódz               </td><td>190                       </td></tr>\n",
       "\t<tr><td>  9830                    </td><td>FC Nantes                 </td><td>189                       </td></tr>\n",
       "\t<tr><td>  7943                    </td><td>Sassuolo                  </td><td>188                       </td></tr>\n",
       "</tbody>\n",
       "</table>\n"
      ],
      "text/latex": [
       "\\begin{tabular}{r|lll}\n",
       " team\\_api\\_id & team\\_name & build\\_up\\\\\n",
       "\\hline\n",
       "\t   9804                     & Torino                     & 209                       \\\\\n",
       "\t   8600                     & Udinese                    & 205                       \\\\\n",
       "\t   8194                     & Fortuna Düsseldorf         & 198                       \\\\\n",
       "\t   8033                     & Podbeskidzie Bielsko-Biala & 193                       \\\\\n",
       "\t   8245                     & Korona Kielce              & 192                       \\\\\n",
       "\t 208931                     & Carpi                      & 190                       \\\\\n",
       "\t   8024                     & Widzew Lódz                & 190                       \\\\\n",
       "\t   8244                     & Widzew Lódz                & 190                       \\\\\n",
       "\t   9830                     & FC Nantes                  & 189                       \\\\\n",
       "\t   7943                     & Sassuolo                   & 188                       \\\\\n",
       "\\end{tabular}\n"
      ],
      "text/markdown": [
       "\n",
       "team_api_id | team_name | build_up | \n",
       "|---|---|---|---|---|---|---|---|---|---|\n",
       "|   9804                     | Torino                     | 209                        | \n",
       "|   8600                     | Udinese                    | 205                        | \n",
       "|   8194                     | Fortuna Düsseldorf         | 198                        | \n",
       "|   8033                     | Podbeskidzie Bielsko-Biala | 193                        | \n",
       "|   8245                     | Korona Kielce              | 192                        | \n",
       "| 208931                     | Carpi                      | 190                        | \n",
       "|   8024                     | Widzew Lódz                | 190                        | \n",
       "|   8244                     | Widzew Lódz                | 190                        | \n",
       "|   9830                     | FC Nantes                  | 189                        | \n",
       "|   7943                     | Sassuolo                   | 188                        | \n",
       "\n",
       "\n"
      ],
      "text/plain": [
       "   team_api_id team_name                  build_up\n",
       "1    9804      Torino                     209     \n",
       "2    8600      Udinese                    205     \n",
       "3    8194      Fortuna Düsseldorf         198     \n",
       "4    8033      Podbeskidzie Bielsko-Biala 193     \n",
       "5    8245      Korona Kielce              192     \n",
       "6  208931      Carpi                      190     \n",
       "7    8024      Widzew Lódz                190     \n",
       "8    8244      Widzew Lódz                190     \n",
       "9    9830      FC Nantes                  189     \n",
       "10   7943      Sassuolo                   188     "
      ]
     },
     "metadata": {},
     "output_type": "display_data"
    }
   ],
   "source": [
    "topteambup <- teams %>% select(team_api_id,team_name,build_up) %>% arrange(desc (build_up))\n",
    "head(topteambup,n=10)"
   ]
  },
  {
   "cell_type": "markdown",
   "metadata": {},
   "source": [
    "### Q.6 Which are the top 10 teams by sum of chance creation attributes?\n",
    "\n",
    "For this question, we select the sum of chance creation attributes, team_api_id and team_name fields, \n",
    "and then we sort the data in descending order of chance_cr.\n",
    "The first 10 rows are then displayed"
   ]
  },
  {
   "cell_type": "code",
   "execution_count": 32,
   "metadata": {
    "collapsed": false
   },
   "outputs": [
    {
     "data": {
      "text/html": [
       "<table>\n",
       "<thead><tr><th scope=col>team_api_id</th><th scope=col>team_name</th><th scope=col>chance_cr</th></tr></thead>\n",
       "<tbody>\n",
       "\t<tr><td> 8543              </td><td>Lazio              </td><td>220                </td></tr>\n",
       "\t<tr><td> 8697              </td><td>SV Werder Bremen   </td><td>216                </td></tr>\n",
       "\t<tr><td> 9875              </td><td>Napoli             </td><td>215                </td></tr>\n",
       "\t<tr><td>10003              </td><td>Swansea City       </td><td>210                </td></tr>\n",
       "\t<tr><td>10172              </td><td>Queens Park Rangers</td><td>210                </td></tr>\n",
       "\t<tr><td> 8178              </td><td>Bayer 04 Leverkusen</td><td>210                </td></tr>\n",
       "\t<tr><td> 8191              </td><td>Burnley            </td><td>210                </td></tr>\n",
       "\t<tr><td> 8344              </td><td>Cardiff City       </td><td>210                </td></tr>\n",
       "\t<tr><td> 8456              </td><td>Manchester City    </td><td>210                </td></tr>\n",
       "\t<tr><td> 8485              </td><td>Aberdeen           </td><td>210                </td></tr>\n",
       "</tbody>\n",
       "</table>\n"
      ],
      "text/latex": [
       "\\begin{tabular}{r|lll}\n",
       " team\\_api\\_id & team\\_name & chance\\_cr\\\\\n",
       "\\hline\n",
       "\t  8543               & Lazio               & 220                \\\\\n",
       "\t  8697               & SV Werder Bremen    & 216                \\\\\n",
       "\t  9875               & Napoli              & 215                \\\\\n",
       "\t 10003               & Swansea City        & 210                \\\\\n",
       "\t 10172               & Queens Park Rangers & 210                \\\\\n",
       "\t  8178               & Bayer 04 Leverkusen & 210                \\\\\n",
       "\t  8191               & Burnley             & 210                \\\\\n",
       "\t  8344               & Cardiff City        & 210                \\\\\n",
       "\t  8456               & Manchester City     & 210                \\\\\n",
       "\t  8485               & Aberdeen            & 210                \\\\\n",
       "\\end{tabular}\n"
      ],
      "text/markdown": [
       "\n",
       "team_api_id | team_name | chance_cr | \n",
       "|---|---|---|---|---|---|---|---|---|---|\n",
       "|  8543               | Lazio               | 220                 | \n",
       "|  8697               | SV Werder Bremen    | 216                 | \n",
       "|  9875               | Napoli              | 215                 | \n",
       "| 10003               | Swansea City        | 210                 | \n",
       "| 10172               | Queens Park Rangers | 210                 | \n",
       "|  8178               | Bayer 04 Leverkusen | 210                 | \n",
       "|  8191               | Burnley             | 210                 | \n",
       "|  8344               | Cardiff City        | 210                 | \n",
       "|  8456               | Manchester City     | 210                 | \n",
       "|  8485               | Aberdeen            | 210                 | \n",
       "\n",
       "\n"
      ],
      "text/plain": [
       "   team_api_id team_name           chance_cr\n",
       "1   8543       Lazio               220      \n",
       "2   8697       SV Werder Bremen    216      \n",
       "3   9875       Napoli              215      \n",
       "4  10003       Swansea City        210      \n",
       "5  10172       Queens Park Rangers 210      \n",
       "6   8178       Bayer 04 Leverkusen 210      \n",
       "7   8191       Burnley             210      \n",
       "8   8344       Cardiff City        210      \n",
       "9   8456       Manchester City     210      \n",
       "10  8485       Aberdeen            210      "
      ]
     },
     "metadata": {},
     "output_type": "display_data"
    }
   ],
   "source": [
    "topteamchance <- teams %>% select(team_api_id,team_name,chance_cr) %>% arrange(desc (chance_cr))\n",
    "head(topteamchance,n=10)"
   ]
  },
  {
   "cell_type": "markdown",
   "metadata": {},
   "source": [
    "### Q.7 Which are the top 10 teams by sum of defense attributes?\n",
    "\n",
    "For this question, we select the sum of defence attributes, team_api_id and team_name fields, \n",
    "and then we sort the data in descending order of defence.\n",
    "The first 10 rows are then displayed\n",
    " "
   ]
  },
  {
   "cell_type": "code",
   "execution_count": 33,
   "metadata": {
    "collapsed": false
   },
   "outputs": [
    {
     "data": {
      "text/html": [
       "<table>\n",
       "<thead><tr><th scope=col>team_api_id</th><th scope=col>team_name</th><th scope=col>defence</th></tr></thead>\n",
       "<tbody>\n",
       "\t<tr><td>10001                 </td><td>KVC Westerlo          </td><td>210                   </td></tr>\n",
       "\t<tr><td>10003                 </td><td>Swansea City          </td><td>210                   </td></tr>\n",
       "\t<tr><td>10172                 </td><td>Queens Park Rangers   </td><td>210                   </td></tr>\n",
       "\t<tr><td>10249                 </td><td>Montpellier Hérault SC</td><td>210                   </td></tr>\n",
       "\t<tr><td> 1957                 </td><td>Jagiellonia Bialystok </td><td>210                   </td></tr>\n",
       "\t<tr><td> 7794                 </td><td>SC Bastia             </td><td>210                   </td></tr>\n",
       "\t<tr><td> 8021                 </td><td>Zaglebie Lubin        </td><td>210                   </td></tr>\n",
       "\t<tr><td> 8197                 </td><td>Leicester City        </td><td>210                   </td></tr>\n",
       "\t<tr><td> 8344                 </td><td>Cardiff City          </td><td>210                   </td></tr>\n",
       "\t<tr><td> 8350                 </td><td>1. FC Kaiserslautern  </td><td>210                   </td></tr>\n",
       "</tbody>\n",
       "</table>\n"
      ],
      "text/latex": [
       "\\begin{tabular}{r|lll}\n",
       " team\\_api\\_id & team\\_name & defence\\\\\n",
       "\\hline\n",
       "\t 10001                  & KVC Westerlo           & 210                   \\\\\n",
       "\t 10003                  & Swansea City           & 210                   \\\\\n",
       "\t 10172                  & Queens Park Rangers    & 210                   \\\\\n",
       "\t 10249                  & Montpellier Hérault SC & 210                   \\\\\n",
       "\t  1957                  & Jagiellonia Bialystok  & 210                   \\\\\n",
       "\t  7794                  & SC Bastia              & 210                   \\\\\n",
       "\t  8021                  & Zaglebie Lubin         & 210                   \\\\\n",
       "\t  8197                  & Leicester City         & 210                   \\\\\n",
       "\t  8344                  & Cardiff City           & 210                   \\\\\n",
       "\t  8350                  & 1. FC Kaiserslautern   & 210                   \\\\\n",
       "\\end{tabular}\n"
      ],
      "text/markdown": [
       "\n",
       "team_api_id | team_name | defence | \n",
       "|---|---|---|---|---|---|---|---|---|---|\n",
       "| 10001                  | KVC Westerlo           | 210                    | \n",
       "| 10003                  | Swansea City           | 210                    | \n",
       "| 10172                  | Queens Park Rangers    | 210                    | \n",
       "| 10249                  | Montpellier Hérault SC | 210                    | \n",
       "|  1957                  | Jagiellonia Bialystok  | 210                    | \n",
       "|  7794                  | SC Bastia              | 210                    | \n",
       "|  8021                  | Zaglebie Lubin         | 210                    | \n",
       "|  8197                  | Leicester City         | 210                    | \n",
       "|  8344                  | Cardiff City           | 210                    | \n",
       "|  8350                  | 1. FC Kaiserslautern   | 210                    | \n",
       "\n",
       "\n"
      ],
      "text/plain": [
       "   team_api_id team_name              defence\n",
       "1  10001       KVC Westerlo           210    \n",
       "2  10003       Swansea City           210    \n",
       "3  10172       Queens Park Rangers    210    \n",
       "4  10249       Montpellier Hérault SC 210    \n",
       "5   1957       Jagiellonia Bialystok  210    \n",
       "6   7794       SC Bastia              210    \n",
       "7   8021       Zaglebie Lubin         210    \n",
       "8   8197       Leicester City         210    \n",
       "9   8344       Cardiff City           210    \n",
       "10  8350       1. FC Kaiserslautern   210    "
      ]
     },
     "metadata": {},
     "output_type": "display_data"
    }
   ],
   "source": [
    "topteamdef <- teams %>% select(team_api_id,team_name,defence) %>% arrange(desc (defence))\n",
    "head(topteamdef,n=10)"
   ]
  },
  {
   "cell_type": "markdown",
   "metadata": {
    "collapsed": true
   },
   "source": [
    "<br><br><br>"
   ]
  },
  {
   "cell_type": "markdown",
   "metadata": {},
   "source": [
    "### Q.8 Which are the top 10 teams by number of scored goals?\n",
    "\n",
    "For this question, we select the total_goals, team_api_id and team_name fields, \n",
    "and then we sort the data in descending order of total_goals.\n",
    "The first 10 rows are then displayed"
   ]
  },
  {
   "cell_type": "code",
   "execution_count": 34,
   "metadata": {
    "collapsed": false
   },
   "outputs": [
    {
     "data": {
      "text/html": [
       "<table>\n",
       "<thead><tr><th scope=col>team_api_id</th><th scope=col>team_name</th><th scope=col>total_goals</th></tr></thead>\n",
       "<tbody>\n",
       "\t<tr><td> 8634            </td><td>FC Barcelona     </td><td>849              </td></tr>\n",
       "\t<tr><td> 8633            </td><td>Real Madrid CF   </td><td>843              </td></tr>\n",
       "\t<tr><td> 9925            </td><td>Celtic           </td><td>695              </td></tr>\n",
       "\t<tr><td> 9823            </td><td>FC Bayern Munich </td><td>653              </td></tr>\n",
       "\t<tr><td> 8640            </td><td>PSV              </td><td>652              </td></tr>\n",
       "\t<tr><td> 8593            </td><td>Ajax             </td><td>647              </td></tr>\n",
       "\t<tr><td> 9931            </td><td>FC Basel         </td><td>619              </td></tr>\n",
       "\t<tr><td> 8456            </td><td>Manchester City  </td><td>606              </td></tr>\n",
       "\t<tr><td> 8455            </td><td>Chelsea          </td><td>583              </td></tr>\n",
       "\t<tr><td>10260            </td><td>Manchester United</td><td>582              </td></tr>\n",
       "</tbody>\n",
       "</table>\n"
      ],
      "text/latex": [
       "\\begin{tabular}{r|lll}\n",
       " team\\_api\\_id & team\\_name & total\\_goals\\\\\n",
       "\\hline\n",
       "\t  8634             & FC Barcelona      & 849              \\\\\n",
       "\t  8633             & Real Madrid CF    & 843              \\\\\n",
       "\t  9925             & Celtic            & 695              \\\\\n",
       "\t  9823             & FC Bayern Munich  & 653              \\\\\n",
       "\t  8640             & PSV               & 652              \\\\\n",
       "\t  8593             & Ajax              & 647              \\\\\n",
       "\t  9931             & FC Basel          & 619              \\\\\n",
       "\t  8456             & Manchester City   & 606              \\\\\n",
       "\t  8455             & Chelsea           & 583              \\\\\n",
       "\t 10260             & Manchester United & 582              \\\\\n",
       "\\end{tabular}\n"
      ],
      "text/markdown": [
       "\n",
       "team_api_id | team_name | total_goals | \n",
       "|---|---|---|---|---|---|---|---|---|---|\n",
       "|  8634             | FC Barcelona      | 849               | \n",
       "|  8633             | Real Madrid CF    | 843               | \n",
       "|  9925             | Celtic            | 695               | \n",
       "|  9823             | FC Bayern Munich  | 653               | \n",
       "|  8640             | PSV               | 652               | \n",
       "|  8593             | Ajax              | 647               | \n",
       "|  9931             | FC Basel          | 619               | \n",
       "|  8456             | Manchester City   | 606               | \n",
       "|  8455             | Chelsea           | 583               | \n",
       "| 10260             | Manchester United | 582               | \n",
       "\n",
       "\n"
      ],
      "text/plain": [
       "   team_api_id team_name         total_goals\n",
       "1   8634       FC Barcelona      849        \n",
       "2   8633       Real Madrid CF    843        \n",
       "3   9925       Celtic            695        \n",
       "4   9823       FC Bayern Munich  653        \n",
       "5   8640       PSV               652        \n",
       "6   8593       Ajax              647        \n",
       "7   9931       FC Basel          619        \n",
       "8   8456       Manchester City   606        \n",
       "9   8455       Chelsea           583        \n",
       "10 10260       Manchester United 582        "
      ]
     },
     "metadata": {},
     "output_type": "display_data"
    }
   ],
   "source": [
    "topteamgoals <- teams %>% select(team_api_id,team_name,total_goals) %>% arrange(desc (total_goals))\n",
    "head(topteamgoals,n=10)"
   ]
  },
  {
   "cell_type": "code",
   "execution_count": null,
   "metadata": {
    "collapsed": true
   },
   "outputs": [],
   "source": []
  },
  {
   "cell_type": "code",
   "execution_count": null,
   "metadata": {
    "collapsed": true
   },
   "outputs": [],
   "source": []
  },
  {
   "cell_type": "code",
   "execution_count": null,
   "metadata": {
    "collapsed": true
   },
   "outputs": [],
   "source": []
  }
 ],
 "metadata": {
  "kernelspec": {
   "display_name": "R",
   "language": "R",
   "name": "ir"
  },
  "language_info": {
   "codemirror_mode": "r",
   "file_extension": ".r",
   "mimetype": "text/x-r-source",
   "name": "R",
   "pygments_lexer": "r",
   "version": "3.3.2"
  }
 },
 "nbformat": 4,
 "nbformat_minor": 2
}
